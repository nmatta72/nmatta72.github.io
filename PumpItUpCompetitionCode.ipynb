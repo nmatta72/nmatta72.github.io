{
 "cells": [
  {
   "cell_type": "markdown",
   "metadata": {},
   "source": [
    "## Notebook Preparation"
   ]
  },
  {
   "cell_type": "code",
   "execution_count": 1,
   "metadata": {},
   "outputs": [],
   "source": [
    "#import necessary libraries\n",
    "from IPython.core.display import display, HTML\n",
    "\n",
    "import matplotlib\n",
    "import matplotlib.pyplot as plt\n",
    "%matplotlib inline\n",
    "from datetime import datetime\n",
    "\n",
    "import pandas as pd\n",
    "import numpy as np\n",
    "import itertools\n",
    "from collections import defaultdict"
   ]
  },
  {
   "cell_type": "code",
   "execution_count": 2,
   "metadata": {},
   "outputs": [],
   "source": [
    "#define important functions to be used throughout analysis\n",
    "from sklearn import linear_model\n",
    "from sklearn.model_selection import cross_val_score, cross_val_predict, cross_validate\n",
    "from sklearn.metrics import confusion_matrix, accuracy_score\n",
    "from sklearn.preprocessing import OneHotEncoder\n",
    "from sklearn.model_selection import KFold\n",
    "\n",
    "def plot_confusion_matrix(cm, classes, normalize=False, title='Confusion matrix',cmap=plt.cm.Blues):\n",
    "    \"\"\"\n",
    "    This function prints and plots the confusion matrix.\n",
    "    Normalization can be applied by setting `normalize=True`.\n",
    "    \"\"\"\n",
    "    plt.imshow(cm, interpolation='nearest', cmap=cmap, aspect='auto')\n",
    "    plt.title(title)\n",
    "    plt.colorbar()\n",
    "    tick_marks = np.arange(len(classes))\n",
    "    \n",
    "    plt.xticks(tick_marks, classes.tolist(), rotation=45)\n",
    "    plt.yticks(tick_marks, classes.tolist())\n",
    "    \n",
    "    thresh = cm.max() / 2.\n",
    "    for i, j in itertools.product(range(cm.shape[0]), range(cm.shape[1])):\n",
    "        plt.text(j, i, cm[i, j],\n",
    "                 horizontalalignment=\"center\",\n",
    "                 verticalalignment='center',\n",
    "                 color=\"white\" if cm[i, j] > thresh else \"black\")\n",
    "\n",
    "    plt.xlim(-0.5, len(classes)-0.5)\n",
    "    plt.ylim(len(classes)-0.5, -0.5)\n",
    "    plt.tight_layout()\n",
    "    plt.ylabel('True label')\n",
    "    plt.xlabel('Predicted label')\n",
    "    \n",
    "def train_model(X,y, model, show_figures=True): \n",
    "    y_pred = cross_val_predict(model, X, y, cv=5)\n",
    "    conf_mat = confusion_matrix(y, y_pred)\n",
    "    score = accuracy_score(y,y_pred)\n",
    "    print(\"Training Accuracy = {0:.4f}\".format(score))\n",
    "    if show_figures:\n",
    "        plot_confusion_matrix(conf_mat, y.unique())\n",
    "        model.fit(X, y)\n",
    "#         get_feature_importance(model, X.columns, n_features=25)\n",
    "    return model, score\n",
    "\n",
    "def get_feature_importance(clf, features, n_features):\n",
    "    feature_importance = abs(clf.coef_[0])\n",
    "    feature_importance = 100.0 * (feature_importance / feature_importance.max())\n",
    "    sorted_idx = np.argsort(feature_importance)[:n_features]\n",
    "    pos = np.arange(sorted_idx.shape[0]) + .5\n",
    "\n",
    "    featfig = plt.figure(figsize=(10,10))\n",
    "    featfig.suptitle(str(n_features) + \" Most important features\")\n",
    "    featax = featfig.add_subplot(1, 1, 1)\n",
    "    featax.barh(pos, feature_importance[sorted_idx], align='center')\n",
    "    featax.set_yticks(pos)\n",
    "    featax.set_xticks([])\n",
    "    featax.set_yticklabels(np.array(features)[sorted_idx], fontsize=15)\n",
    "    featax.set_xlabel('Relative Feature Importance', fontsize=15)\n",
    "    plt.show()\n",
    "    \n",
    "def remove_outlier(df_in, col_name):\n",
    "    q1 = df_in[col_name].quantile(0.25)\n",
    "    q3 = df_in[col_name].quantile(0.75)\n",
    "    iqr = q3-q1 #Interquartile range\n",
    "    fence_low  = q1-1.5*iqr\n",
    "    fence_high = q3+1.5*iqr\n",
    "    df_out = df_in.loc[(df_in[col_name] > fence_low) & (df_in[col_name] < fence_high)]\n",
    "    print(\"{} outliers removed from {}\".format(len(df_in)-len(df_out),col_name))\n",
    "    return df_out\n",
    "\n",
    "def count_outliers(df_in, col_name):\n",
    "    q1 = df_in[col_name].quantile(0.25)\n",
    "    q3 = df_in[col_name].quantile(0.75)\n",
    "    iqr = q3-q1 #Interquartile range\n",
    "    fence_low  = q1-1.5*iqr\n",
    "    fence_high = q3+1.5*iqr\n",
    "    df_out = df_in.loc[(df_in[col_name] > fence_low) & (df_in[col_name] < fence_high)]\n",
    "    out_sum = ((df_in[col_name] < (q1 - 1.5 * iqr)) | (df_in[col_name] > (q3 + 1.5 * iqr))).sum()\n",
    "    print(\"{} outliers in {}\".format(out_sum,col_name))\n",
    "    return df_out"
   ]
  },
  {
   "cell_type": "code",
   "execution_count": 3,
   "metadata": {},
   "outputs": [],
   "source": [
    "#import datasets\n",
    "train_feat = pd.read_csv(\"train_features.csv\", delimiter=\",\", decimal=\".\")\n",
    "train_labels = pd.read_csv(\"train_labels.csv\", delimiter=\",\", decimal=\".\")\n",
    "test = pd.read_csv(\"test_set.csv\", delimiter=\",\", decimal=\".\")"
   ]
  },
  {
   "cell_type": "code",
   "execution_count": 4,
   "metadata": {},
   "outputs": [],
   "source": [
    "#create a train/test column to identify which dataset each row belongs to\n",
    "train_feat[\"train_or_test\"] = \"train\"\n",
    "test[\"train_or_test\"] = \"test\""
   ]
  },
  {
   "cell_type": "code",
   "execution_count": 5,
   "metadata": {},
   "outputs": [],
   "source": [
    "#append train and test so that data cleaning will be performed once for both datasets\n",
    "dataset = train_feat.append(test)"
   ]
  },
  {
   "cell_type": "code",
   "execution_count": 6,
   "metadata": {},
   "outputs": [
    {
     "data": {
      "text/html": [
       "<div>\n",
       "<style scoped>\n",
       "    .dataframe tbody tr th:only-of-type {\n",
       "        vertical-align: middle;\n",
       "    }\n",
       "\n",
       "    .dataframe tbody tr th {\n",
       "        vertical-align: top;\n",
       "    }\n",
       "\n",
       "    .dataframe thead th {\n",
       "        text-align: right;\n",
       "    }\n",
       "</style>\n",
       "<table border=\"1\" class=\"dataframe\">\n",
       "  <thead>\n",
       "    <tr style=\"text-align: right;\">\n",
       "      <th></th>\n",
       "      <th>id</th>\n",
       "      <th>amount_tsh</th>\n",
       "      <th>gps_height</th>\n",
       "      <th>longitude</th>\n",
       "      <th>latitude</th>\n",
       "      <th>num_private</th>\n",
       "      <th>region_code</th>\n",
       "      <th>district_code</th>\n",
       "      <th>population</th>\n",
       "      <th>construction_year</th>\n",
       "    </tr>\n",
       "  </thead>\n",
       "  <tbody>\n",
       "    <tr>\n",
       "      <td>count</td>\n",
       "      <td>74250.000000</td>\n",
       "      <td>74250.000000</td>\n",
       "      <td>74250.000000</td>\n",
       "      <td>74250.000000</td>\n",
       "      <td>7.425000e+04</td>\n",
       "      <td>74250.000000</td>\n",
       "      <td>74250.000000</td>\n",
       "      <td>74250.000000</td>\n",
       "      <td>74250.000000</td>\n",
       "      <td>74250.000000</td>\n",
       "    </tr>\n",
       "    <tr>\n",
       "      <td>mean</td>\n",
       "      <td>37124.500000</td>\n",
       "      <td>318.685704</td>\n",
       "      <td>665.667313</td>\n",
       "      <td>34.074262</td>\n",
       "      <td>-5.701771e+00</td>\n",
       "      <td>0.462330</td>\n",
       "      <td>15.265414</td>\n",
       "      <td>5.629077</td>\n",
       "      <td>180.750828</td>\n",
       "      <td>1298.463650</td>\n",
       "    </tr>\n",
       "    <tr>\n",
       "      <td>std</td>\n",
       "      <td>21434.273081</td>\n",
       "      <td>2906.762364</td>\n",
       "      <td>692.761033</td>\n",
       "      <td>6.572519</td>\n",
       "      <td>2.944969e+00</td>\n",
       "      <td>11.537879</td>\n",
       "      <td>17.508907</td>\n",
       "      <td>9.641636</td>\n",
       "      <td>471.086120</td>\n",
       "      <td>952.349375</td>\n",
       "    </tr>\n",
       "    <tr>\n",
       "      <td>min</td>\n",
       "      <td>0.000000</td>\n",
       "      <td>0.000000</td>\n",
       "      <td>-90.000000</td>\n",
       "      <td>0.000000</td>\n",
       "      <td>-1.164944e+01</td>\n",
       "      <td>0.000000</td>\n",
       "      <td>1.000000</td>\n",
       "      <td>0.000000</td>\n",
       "      <td>0.000000</td>\n",
       "      <td>0.000000</td>\n",
       "    </tr>\n",
       "    <tr>\n",
       "      <td>25%</td>\n",
       "      <td>18562.250000</td>\n",
       "      <td>0.000000</td>\n",
       "      <td>0.000000</td>\n",
       "      <td>33.086819</td>\n",
       "      <td>-8.525675e+00</td>\n",
       "      <td>0.000000</td>\n",
       "      <td>5.000000</td>\n",
       "      <td>2.000000</td>\n",
       "      <td>0.000000</td>\n",
       "      <td>0.000000</td>\n",
       "    </tr>\n",
       "    <tr>\n",
       "      <td>50%</td>\n",
       "      <td>37124.500000</td>\n",
       "      <td>0.000000</td>\n",
       "      <td>364.000000</td>\n",
       "      <td>34.907475</td>\n",
       "      <td>-5.026540e+00</td>\n",
       "      <td>0.000000</td>\n",
       "      <td>12.000000</td>\n",
       "      <td>3.000000</td>\n",
       "      <td>25.000000</td>\n",
       "      <td>1986.000000</td>\n",
       "    </tr>\n",
       "    <tr>\n",
       "      <td>75%</td>\n",
       "      <td>55686.750000</td>\n",
       "      <td>20.000000</td>\n",
       "      <td>1317.000000</td>\n",
       "      <td>37.181685</td>\n",
       "      <td>-3.325058e+00</td>\n",
       "      <td>0.000000</td>\n",
       "      <td>17.000000</td>\n",
       "      <td>5.000000</td>\n",
       "      <td>215.000000</td>\n",
       "      <td>2004.000000</td>\n",
       "    </tr>\n",
       "    <tr>\n",
       "      <td>max</td>\n",
       "      <td>74249.000000</td>\n",
       "      <td>350000.000000</td>\n",
       "      <td>2777.000000</td>\n",
       "      <td>40.345193</td>\n",
       "      <td>-2.000000e-08</td>\n",
       "      <td>1776.000000</td>\n",
       "      <td>99.000000</td>\n",
       "      <td>80.000000</td>\n",
       "      <td>30500.000000</td>\n",
       "      <td>2013.000000</td>\n",
       "    </tr>\n",
       "  </tbody>\n",
       "</table>\n",
       "</div>"
      ],
      "text/plain": [
       "                 id     amount_tsh    gps_height     longitude      latitude  \\\n",
       "count  74250.000000   74250.000000  74250.000000  74250.000000  7.425000e+04   \n",
       "mean   37124.500000     318.685704    665.667313     34.074262 -5.701771e+00   \n",
       "std    21434.273081    2906.762364    692.761033      6.572519  2.944969e+00   \n",
       "min        0.000000       0.000000    -90.000000      0.000000 -1.164944e+01   \n",
       "25%    18562.250000       0.000000      0.000000     33.086819 -8.525675e+00   \n",
       "50%    37124.500000       0.000000    364.000000     34.907475 -5.026540e+00   \n",
       "75%    55686.750000      20.000000   1317.000000     37.181685 -3.325058e+00   \n",
       "max    74249.000000  350000.000000   2777.000000     40.345193 -2.000000e-08   \n",
       "\n",
       "        num_private   region_code  district_code    population  \\\n",
       "count  74250.000000  74250.000000   74250.000000  74250.000000   \n",
       "mean       0.462330     15.265414       5.629077    180.750828   \n",
       "std       11.537879     17.508907       9.641636    471.086120   \n",
       "min        0.000000      1.000000       0.000000      0.000000   \n",
       "25%        0.000000      5.000000       2.000000      0.000000   \n",
       "50%        0.000000     12.000000       3.000000     25.000000   \n",
       "75%        0.000000     17.000000       5.000000    215.000000   \n",
       "max     1776.000000     99.000000      80.000000  30500.000000   \n",
       "\n",
       "       construction_year  \n",
       "count       74250.000000  \n",
       "mean         1298.463650  \n",
       "std           952.349375  \n",
       "min             0.000000  \n",
       "25%             0.000000  \n",
       "50%          1986.000000  \n",
       "75%          2004.000000  \n",
       "max          2013.000000  "
      ]
     },
     "execution_count": 6,
     "metadata": {},
     "output_type": "execute_result"
    }
   ],
   "source": [
    "pd.options.display.max_columns = dataset.shape[1]\n",
    "\n",
    "dataset.describe()"
   ]
  },
  {
   "cell_type": "markdown",
   "metadata": {},
   "source": [
    "## Data Cleaning and Preparation"
   ]
  },
  {
   "cell_type": "markdown",
   "metadata": {},
   "source": [
    "Before we fix data types and handle missing values, let's take a look at the data and see which variables we can drop. Upon review of the variable definitions, we noticed some were repetitive. We decided to drop the following variables:\n",
    "\n",
    "- `wpt_name` --> does not provide much insight, too many levels\n",
    "- `num_private` --> not meaningful, 99% of this variable is 0\n",
    "- `subvillage` --> geographic location is explained by other variables, too many levels\n",
    "- `region_code` --> geographic location is explained by other variables\n",
    "- `district_code` --> geographic location is explained by other variables\n",
    "- `lga`** --> geographic location is explained by other variables, too many levels\n",
    "- `ward` --> geographic location is explained by other variables, too many levels\n",
    "- `public_meeting` --> not meaningful, not much variability. >80% of the values are True\n",
    "- `recorded_by` --> not meaningul\n",
    "- `scheme_name` --> too many levels, too many missing values, and is explained by `scheme_management`\n",
    "- `extraction_type` and `extraction_type_group` --> too many levels and explained by `extraction_type_class`\n",
    "- `management` --> explained by `management_group`, which has fewer levels\n",
    "- `payment` --> duplicate of `payment_type`\n",
    "- `water_quality` --> explained by `quality_group`, which has fewer levels\n",
    "- `quantity_group` --> identical column as `quantity`\n",
    "- `source` and `source_class` --> explained by `source_type`, which has fewer levels than `source` but more informative than `source_class`\n",
    "- `waterpoint_type` --> explained by `waterpoint_type_group` which has fewer levels\n",
    "\n",
    "** Note that we do not remove `lga` in the code now since we use this variable to extract information for a new variable in the Feature Engineering section. We drop the variable after creating the new variable."
   ]
  },
  {
   "cell_type": "code",
   "execution_count": 7,
   "metadata": {},
   "outputs": [],
   "source": [
    "vars_to_drop = [\"wpt_name\", \"num_private\", \"region_code\", \"district_code\", \"ward\", \"public_meeting\", \"recorded_by\", \"scheme_name\", \"extraction_type\", \"extraction_type_group\", \"management_group\", \"payment\", \"quality_group\", \"quantity_group\", \"source_type\", \"source_class\", \"waterpoint_type\"]\n",
    "\n",
    "for i in vars_to_drop:\n",
    "    dataset = dataset.drop(i, axis=1)"
   ]
  },
  {
   "cell_type": "code",
   "execution_count": 8,
   "metadata": {},
   "outputs": [
    {
     "data": {
      "text/html": [
       "<div>\n",
       "<style scoped>\n",
       "    .dataframe tbody tr th:only-of-type {\n",
       "        vertical-align: middle;\n",
       "    }\n",
       "\n",
       "    .dataframe tbody tr th {\n",
       "        vertical-align: top;\n",
       "    }\n",
       "\n",
       "    .dataframe thead th {\n",
       "        text-align: right;\n",
       "    }\n",
       "</style>\n",
       "<table border=\"1\" class=\"dataframe\">\n",
       "  <thead>\n",
       "    <tr style=\"text-align: right;\">\n",
       "      <th></th>\n",
       "      <th>id</th>\n",
       "      <th>amount_tsh</th>\n",
       "      <th>date_recorded</th>\n",
       "      <th>funder</th>\n",
       "      <th>gps_height</th>\n",
       "      <th>installer</th>\n",
       "      <th>longitude</th>\n",
       "      <th>latitude</th>\n",
       "      <th>basin</th>\n",
       "      <th>subvillage</th>\n",
       "      <th>region</th>\n",
       "      <th>lga</th>\n",
       "      <th>population</th>\n",
       "      <th>scheme_management</th>\n",
       "      <th>permit</th>\n",
       "      <th>construction_year</th>\n",
       "      <th>extraction_type_class</th>\n",
       "      <th>management</th>\n",
       "      <th>payment_type</th>\n",
       "      <th>water_quality</th>\n",
       "      <th>quantity</th>\n",
       "      <th>source</th>\n",
       "      <th>waterpoint_type_group</th>\n",
       "      <th>train_or_test</th>\n",
       "    </tr>\n",
       "  </thead>\n",
       "  <tbody>\n",
       "    <tr>\n",
       "      <td>0</td>\n",
       "      <td>69572</td>\n",
       "      <td>6000.0</td>\n",
       "      <td>3/14/2011</td>\n",
       "      <td>Roman</td>\n",
       "      <td>1390</td>\n",
       "      <td>Roman</td>\n",
       "      <td>34.938093</td>\n",
       "      <td>-9.856322</td>\n",
       "      <td>Lake Nyasa</td>\n",
       "      <td>Mnyusi B</td>\n",
       "      <td>Iringa</td>\n",
       "      <td>Ludewa</td>\n",
       "      <td>109</td>\n",
       "      <td>VWC</td>\n",
       "      <td>False</td>\n",
       "      <td>1999</td>\n",
       "      <td>gravity</td>\n",
       "      <td>vwc</td>\n",
       "      <td>annually</td>\n",
       "      <td>soft</td>\n",
       "      <td>enough</td>\n",
       "      <td>spring</td>\n",
       "      <td>communal standpipe</td>\n",
       "      <td>train</td>\n",
       "    </tr>\n",
       "    <tr>\n",
       "      <td>1</td>\n",
       "      <td>8776</td>\n",
       "      <td>0.0</td>\n",
       "      <td>3/6/2013</td>\n",
       "      <td>Grumeti</td>\n",
       "      <td>1399</td>\n",
       "      <td>GRUMETI</td>\n",
       "      <td>34.698766</td>\n",
       "      <td>-2.147466</td>\n",
       "      <td>Lake Victoria</td>\n",
       "      <td>Nyamara</td>\n",
       "      <td>Mara</td>\n",
       "      <td>Serengeti</td>\n",
       "      <td>280</td>\n",
       "      <td>Other</td>\n",
       "      <td>True</td>\n",
       "      <td>2010</td>\n",
       "      <td>gravity</td>\n",
       "      <td>wug</td>\n",
       "      <td>never pay</td>\n",
       "      <td>soft</td>\n",
       "      <td>insufficient</td>\n",
       "      <td>rainwater harvesting</td>\n",
       "      <td>communal standpipe</td>\n",
       "      <td>train</td>\n",
       "    </tr>\n",
       "    <tr>\n",
       "      <td>2</td>\n",
       "      <td>34310</td>\n",
       "      <td>25.0</td>\n",
       "      <td>2/25/2013</td>\n",
       "      <td>Lottery Club</td>\n",
       "      <td>686</td>\n",
       "      <td>World vision</td>\n",
       "      <td>37.460664</td>\n",
       "      <td>-3.821329</td>\n",
       "      <td>Pangani</td>\n",
       "      <td>Majengo</td>\n",
       "      <td>Manyara</td>\n",
       "      <td>Simanjiro</td>\n",
       "      <td>250</td>\n",
       "      <td>VWC</td>\n",
       "      <td>True</td>\n",
       "      <td>2009</td>\n",
       "      <td>gravity</td>\n",
       "      <td>vwc</td>\n",
       "      <td>per bucket</td>\n",
       "      <td>soft</td>\n",
       "      <td>enough</td>\n",
       "      <td>dam</td>\n",
       "      <td>communal standpipe</td>\n",
       "      <td>train</td>\n",
       "    </tr>\n",
       "    <tr>\n",
       "      <td>3</td>\n",
       "      <td>67743</td>\n",
       "      <td>0.0</td>\n",
       "      <td>1/28/2013</td>\n",
       "      <td>Unicef</td>\n",
       "      <td>263</td>\n",
       "      <td>UNICEF</td>\n",
       "      <td>38.486161</td>\n",
       "      <td>-11.155298</td>\n",
       "      <td>Ruvuma / Southern Coast</td>\n",
       "      <td>Mahakamani</td>\n",
       "      <td>Mtwara</td>\n",
       "      <td>Nanyumbu</td>\n",
       "      <td>58</td>\n",
       "      <td>VWC</td>\n",
       "      <td>True</td>\n",
       "      <td>1986</td>\n",
       "      <td>submersible</td>\n",
       "      <td>vwc</td>\n",
       "      <td>never pay</td>\n",
       "      <td>soft</td>\n",
       "      <td>dry</td>\n",
       "      <td>machine dbh</td>\n",
       "      <td>communal standpipe</td>\n",
       "      <td>train</td>\n",
       "    </tr>\n",
       "    <tr>\n",
       "      <td>4</td>\n",
       "      <td>19728</td>\n",
       "      <td>0.0</td>\n",
       "      <td>7/13/2011</td>\n",
       "      <td>Action In A</td>\n",
       "      <td>0</td>\n",
       "      <td>Artisan</td>\n",
       "      <td>31.130847</td>\n",
       "      <td>-1.825359</td>\n",
       "      <td>Lake Victoria</td>\n",
       "      <td>Kyanyamisa</td>\n",
       "      <td>Kagera</td>\n",
       "      <td>Karagwe</td>\n",
       "      <td>0</td>\n",
       "      <td>NaN</td>\n",
       "      <td>True</td>\n",
       "      <td>0</td>\n",
       "      <td>gravity</td>\n",
       "      <td>other</td>\n",
       "      <td>never pay</td>\n",
       "      <td>soft</td>\n",
       "      <td>seasonal</td>\n",
       "      <td>rainwater harvesting</td>\n",
       "      <td>communal standpipe</td>\n",
       "      <td>train</td>\n",
       "    </tr>\n",
       "  </tbody>\n",
       "</table>\n",
       "</div>"
      ],
      "text/plain": [
       "      id  amount_tsh date_recorded        funder  gps_height     installer  \\\n",
       "0  69572      6000.0     3/14/2011         Roman        1390         Roman   \n",
       "1   8776         0.0      3/6/2013       Grumeti        1399       GRUMETI   \n",
       "2  34310        25.0     2/25/2013  Lottery Club         686  World vision   \n",
       "3  67743         0.0     1/28/2013        Unicef         263        UNICEF   \n",
       "4  19728         0.0     7/13/2011   Action In A           0       Artisan   \n",
       "\n",
       "   longitude   latitude                    basin  subvillage   region  \\\n",
       "0  34.938093  -9.856322               Lake Nyasa    Mnyusi B   Iringa   \n",
       "1  34.698766  -2.147466            Lake Victoria     Nyamara     Mara   \n",
       "2  37.460664  -3.821329                  Pangani     Majengo  Manyara   \n",
       "3  38.486161 -11.155298  Ruvuma / Southern Coast  Mahakamani   Mtwara   \n",
       "4  31.130847  -1.825359            Lake Victoria  Kyanyamisa   Kagera   \n",
       "\n",
       "         lga  population scheme_management permit  construction_year  \\\n",
       "0     Ludewa         109               VWC  False               1999   \n",
       "1  Serengeti         280             Other   True               2010   \n",
       "2  Simanjiro         250               VWC   True               2009   \n",
       "3   Nanyumbu          58               VWC   True               1986   \n",
       "4    Karagwe           0               NaN   True                  0   \n",
       "\n",
       "  extraction_type_class management payment_type water_quality      quantity  \\\n",
       "0               gravity        vwc     annually          soft        enough   \n",
       "1               gravity        wug    never pay          soft  insufficient   \n",
       "2               gravity        vwc   per bucket          soft        enough   \n",
       "3           submersible        vwc    never pay          soft           dry   \n",
       "4               gravity      other    never pay          soft      seasonal   \n",
       "\n",
       "                 source waterpoint_type_group train_or_test  \n",
       "0                spring    communal standpipe         train  \n",
       "1  rainwater harvesting    communal standpipe         train  \n",
       "2                   dam    communal standpipe         train  \n",
       "3           machine dbh    communal standpipe         train  \n",
       "4  rainwater harvesting    communal standpipe         train  "
      ]
     },
     "execution_count": 8,
     "metadata": {},
     "output_type": "execute_result"
    }
   ],
   "source": [
    "dataset.head()"
   ]
  },
  {
   "cell_type": "markdown",
   "metadata": {},
   "source": [
    "Now that we've removed unnecessary features from our dataset, we can perform further cleaning. First we will fix the datatypes of the variables."
   ]
  },
  {
   "cell_type": "code",
   "execution_count": 9,
   "metadata": {},
   "outputs": [],
   "source": [
    "#create a list of variables that are supposed to be categorical, and convert them\n",
    "categorical = [\"funder\", \"installer\", \"basin\", \"region\", \"scheme_management\", \"permit\", \"extraction_type_class\", \"management\", \"payment_type\", \"water_quality\", \"quantity\", \"source\", \"waterpoint_type_group\"]\n",
    "\n",
    "dataset[categorical] = dataset[categorical].astype(\"category\")\n",
    "\n",
    "#convert date_recorded to a datetime object so that information can be extracted from it later on\n",
    "dataset[\"date_recorded\"] = pd.to_datetime(dataset[\"date_recorded\"])"
   ]
  },
  {
   "cell_type": "code",
   "execution_count": 10,
   "metadata": {},
   "outputs": [
    {
     "data": {
      "text/plain": [
       "id                                int64\n",
       "amount_tsh                      float64\n",
       "date_recorded            datetime64[ns]\n",
       "funder                         category\n",
       "gps_height                        int64\n",
       "installer                      category\n",
       "longitude                       float64\n",
       "latitude                        float64\n",
       "basin                          category\n",
       "subvillage                       object\n",
       "region                         category\n",
       "lga                              object\n",
       "population                        int64\n",
       "scheme_management              category\n",
       "permit                         category\n",
       "construction_year                 int64\n",
       "extraction_type_class          category\n",
       "management                     category\n",
       "payment_type                   category\n",
       "water_quality                  category\n",
       "quantity                       category\n",
       "source                         category\n",
       "waterpoint_type_group          category\n",
       "train_or_test                    object\n",
       "dtype: object"
      ]
     },
     "execution_count": 10,
     "metadata": {},
     "output_type": "execute_result"
    }
   ],
   "source": [
    "dataset.dtypes"
   ]
  },
  {
   "cell_type": "markdown",
   "metadata": {},
   "source": [
    "Now let's see what missing values we have in the remaining variables of our dataset:"
   ]
  },
  {
   "cell_type": "code",
   "execution_count": 11,
   "metadata": {},
   "outputs": [
    {
     "data": {
      "text/plain": [
       "id                          0\n",
       "amount_tsh                  0\n",
       "date_recorded               0\n",
       "funder                   4504\n",
       "gps_height                  0\n",
       "installer                4532\n",
       "longitude                   0\n",
       "latitude                    0\n",
       "basin                       0\n",
       "subvillage                470\n",
       "region                      0\n",
       "lga                         0\n",
       "population                  0\n",
       "scheme_management        4846\n",
       "permit                   3793\n",
       "construction_year           0\n",
       "extraction_type_class       0\n",
       "management                  0\n",
       "payment_type                0\n",
       "water_quality               0\n",
       "quantity                    0\n",
       "source                      0\n",
       "waterpoint_type_group       0\n",
       "train_or_test               0\n",
       "dtype: int64"
      ]
     },
     "execution_count": 11,
     "metadata": {},
     "output_type": "execute_result"
    }
   ],
   "source": [
    "#this gives us nulls in categorical columns\n",
    "dataset.isnull().sum()"
   ]
  },
  {
   "cell_type": "markdown",
   "metadata": {},
   "source": [
    "#### Null values - categorical columns"
   ]
  },
  {
   "cell_type": "markdown",
   "metadata": {},
   "source": [
    "Upon further review of the dataset, it seems that `funder` and `installer` might explain the same thing. For now we will keep both, and replace the missing values with \"missing\", since they cannot be imputed. Same goes for `scheme_management` and `permit`, missing values will be replaced by \"missing\". This will create a new category for these variables, which could have an implication on the functionality of the well.\n",
    "\n",
    "We note that this is the first attempt of handling null values for categorical columns. We later tried to improve our model by replacing null values with the most frequent values for `scheme_management` since 60% of the data is VWC, however it slightly lowered our accuracy."
   ]
  },
  {
   "cell_type": "code",
   "execution_count": 12,
   "metadata": {},
   "outputs": [],
   "source": [
    "# change null values to \"missing\"\n",
    "dataset['funder'] = dataset['funder'].cat.add_categories('missing')\n",
    "dataset['funder'].fillna('missing', inplace =True) \n",
    "\n",
    "dataset['installer'] = dataset['installer'].cat.add_categories('missing')\n",
    "dataset['installer'].fillna('missing', inplace =True) \n",
    "\n",
    "dataset['scheme_management'] = dataset['scheme_management'].cat.add_categories('missing')\n",
    "dataset['scheme_management'].fillna('missing', inplace =True) \n",
    "\n",
    "dataset['permit'] = dataset['permit'].cat.add_categories('missing')\n",
    "dataset['permit'].fillna('missing', inplace =True)"
   ]
  },
  {
   "cell_type": "markdown",
   "metadata": {},
   "source": [
    "#### Null values - numerical columns"
   ]
  },
  {
   "cell_type": "markdown",
   "metadata": {},
   "source": [
    "Let's see how many values in our numerical columns are zero, which could indicate missing data"
   ]
  },
  {
   "cell_type": "code",
   "execution_count": 13,
   "metadata": {},
   "outputs": [
    {
     "data": {
      "text/plain": [
       "id                   0.000013\n",
       "amount_tsh           0.700997\n",
       "gps_height           0.345441\n",
       "longitude            0.030559\n",
       "latitude             0.000000\n",
       "population           0.361401\n",
       "construction_year    0.349751\n",
       "dtype: float64"
      ]
     },
     "execution_count": 13,
     "metadata": {},
     "output_type": "execute_result"
    }
   ],
   "source": [
    "num_colums = ['int16', 'int32', 'int64', 'float16', 'float32', 'float64']\n",
    "numerical_columns = list(dataset.select_dtypes(include=num_colums).columns)\n",
    "\n",
    "(dataset[numerical_columns] == 0).astype(int).sum(axis=0)/len(dataset)\n",
    "    "
   ]
  },
  {
   "cell_type": "markdown",
   "metadata": {},
   "source": [
    "The most alarming column here is `amount_tsh`, which contains 70% zero values. Upon review of the train dataset, 50% of wells that have a value of zero in this column are still classified as functional. This implies that the 0 values could represent missing data. Since there is uncertainty around this column, we will drop this variable from the dataset. Upon first evaluation, we dropped `latitude` and `longitude` since they represent location which is explained by other variables. We later realized that these variables ended up being important, probably because they pinpoint the exact location of the well, which will help in determining the functionality of wells for unseen data. Originally we did not touch the 0s in`gps_height`, however we noticed that this is a very important variable. We became open to the idea that the 0s might represent valuable information, so we imputed values for the 0s. Other considerations below:\n",
    "\n",
    "The missing values in `population`, `latitude`, `longitude`, `latitude` and `gps_height` were imputed by grouping by `subvillage`, and extracting the mean associated with each group. The median was used for missing values in `construction_year`. It is important to note that upon first evaluation, the mean of the entire `population` column was used for the missing values in `population`, however we realized that by using the information in `subvillage`, we would get a truer estimate for this variable. This theory was proved with a higher accuracy in our model."
   ]
  },
  {
   "cell_type": "code",
   "execution_count": 14,
   "metadata": {},
   "outputs": [
    {
     "name": "stderr",
     "output_type": "stream",
     "text": [
      "C:\\Users\\nikit\\Anaconda3\\lib\\site-packages\\pandas\\core\\indexing.py:205: SettingWithCopyWarning: \n",
      "A value is trying to be set on a copy of a slice from a DataFrame\n",
      "\n",
      "See the caveats in the documentation: http://pandas.pydata.org/pandas-docs/stable/user_guide/indexing.html#returning-a-view-versus-a-copy\n",
      "  self._setitem_with_indexer(indexer, value)\n"
     ]
    }
   ],
   "source": [
    "#second attempt - keep long/lat and impute mean for gps_height and population 0s based on subvillage:\n",
    "dataset.drop([\"amount_tsh\"], axis=1, inplace=True)\n",
    "\n",
    "#first make latitude = to 0 when longitude = 0 (currently it is 0.0000002 in the dataset):\n",
    "dataset[\"lat_replaced_0s\"] = dataset[\"latitude\"]\n",
    "dataset['lat_replaced_0s'].loc[dataset['latitude'] == 0] = 0\n",
    "dataset.drop([\"latitude\"], axis=1, inplace=True)"
   ]
  },
  {
   "cell_type": "code",
   "execution_count": 15,
   "metadata": {},
   "outputs": [],
   "source": [
    "#convert 0s to NAs for code below to work\n",
    "cols_to_impute = [\"longitude\", \"lat_replaced_0s\", \"gps_height\", \"population\"]\n",
    "for i in cols_to_impute:\n",
    "    dataset[i].replace(0, np.nan, inplace=True)"
   ]
  },
  {
   "cell_type": "code",
   "execution_count": 16,
   "metadata": {},
   "outputs": [],
   "source": [
    "#impute mean for columns according to mean of subvillage\n",
    "for i in cols_to_impute:\n",
    "    dataset[i] = dataset[i].fillna(dataset.groupby(\"subvillage\")[i].transform('mean'))\n",
    "    dataset[i] = dataset[i].fillna(dataset[i].mean())"
   ]
  },
  {
   "cell_type": "code",
   "execution_count": 17,
   "metadata": {},
   "outputs": [],
   "source": [
    "dataset.drop([\"subvillage\"], axis=1, inplace=True)"
   ]
  },
  {
   "cell_type": "code",
   "execution_count": 18,
   "metadata": {},
   "outputs": [],
   "source": [
    "#calculate median for construction_year\n",
    "median_constr_yr = dataset['construction_year'].median(skipna=True)"
   ]
  },
  {
   "cell_type": "code",
   "execution_count": 19,
   "metadata": {},
   "outputs": [],
   "source": [
    "#impute median for 0 values in construction_year\n",
    "dataset['construction_year']=dataset.construction_year.mask(dataset.construction_year == 0,median_constr_yr)"
   ]
  },
  {
   "cell_type": "code",
   "execution_count": 20,
   "metadata": {},
   "outputs": [
    {
     "data": {
      "text/plain": [
       "id                   0.000013\n",
       "gps_height           0.000000\n",
       "longitude            0.000000\n",
       "population           0.000000\n",
       "construction_year    0.000000\n",
       "lat_replaced_0s      0.000000\n",
       "dtype: float64"
      ]
     },
     "execution_count": 20,
     "metadata": {},
     "output_type": "execute_result"
    }
   ],
   "source": [
    "#ensure that 0 values have been imputed for certain variables\n",
    "num_colums = ['int16', 'int32', 'int64', 'float16', 'float32', 'float64']\n",
    "numerical_columns = list(dataset.select_dtypes(include=num_colums).columns)\n",
    "(dataset[numerical_columns] == 0).astype(int).sum(axis=0)/len(dataset)"
   ]
  },
  {
   "cell_type": "code",
   "execution_count": 21,
   "metadata": {},
   "outputs": [
    {
     "data": {
      "text/plain": [
       "id                       0\n",
       "date_recorded            0\n",
       "funder                   0\n",
       "gps_height               0\n",
       "installer                0\n",
       "longitude                0\n",
       "basin                    0\n",
       "region                   0\n",
       "lga                      0\n",
       "population               0\n",
       "scheme_management        0\n",
       "permit                   0\n",
       "construction_year        0\n",
       "extraction_type_class    0\n",
       "management               0\n",
       "payment_type             0\n",
       "water_quality            0\n",
       "quantity                 0\n",
       "source                   0\n",
       "waterpoint_type_group    0\n",
       "train_or_test            0\n",
       "lat_replaced_0s          0\n",
       "dtype: int64"
      ]
     },
     "execution_count": 21,
     "metadata": {},
     "output_type": "execute_result"
    }
   ],
   "source": [
    "#ensure all null values have been removed\n",
    "dataset.isnull().sum()"
   ]
  },
  {
   "cell_type": "markdown",
   "metadata": {},
   "source": [
    "Now that we've handled all missing values from our dataset, let's remove outliers"
   ]
  },
  {
   "cell_type": "markdown",
   "metadata": {},
   "source": [
    "#### Remove outliers"
   ]
  },
  {
   "cell_type": "markdown",
   "metadata": {},
   "source": [
    "Upon first evaluation, we removed all rows containing outliers. We lost about 4,000 rows of data in total, which we realized still contained meaningful information from other variables. We therefore imputed the 75th quantile (fence high) for outliers so that the model would recognize that these values are higher than normal. "
   ]
  },
  {
   "cell_type": "code",
   "execution_count": 22,
   "metadata": {},
   "outputs": [],
   "source": [
    "#remove outliers only in the training data\n",
    "outlier_free_dataset = dataset[dataset[\"train_or_test\"]==\"train\"]"
   ]
  },
  {
   "cell_type": "code",
   "execution_count": 23,
   "metadata": {},
   "outputs": [
    {
     "name": "stdout",
     "output_type": "stream",
     "text": [
      "Analyzing outliers of column: gps_height\n"
     ]
    },
    {
     "data": {
      "image/png": "[encoded data removed]",
      "text/plain": [
       "<Figure size 720x720 with 1 Axes>"
      ]
     },
     "metadata": {
      "needs_background": "light"
     },
     "output_type": "display_data"
    },
    {
     "name": "stdout",
     "output_type": "stream",
     "text": [
      "Analyzing outliers of column: longitude\n"
     ]
    },
    {
     "data": {
      "image/png": "[encoded data removed]",
      "text/plain": [
       "<Figure size 720x720 with 1 Axes>"
      ]
     },
     "metadata": {
      "needs_background": "light"
     },
     "output_type": "display_data"
    },
    {
     "name": "stdout",
     "output_type": "stream",
     "text": [
      "Analyzing outliers of column: population\n"
     ]
    },
    {
     "data": {
      "image/png": "[encoded data removed]",
      "text/plain": [
       "<Figure size 720x720 with 1 Axes>"
      ]
     },
     "metadata": {
      "needs_background": "light"
     },
     "output_type": "display_data"
    },
    {
     "name": "stdout",
     "output_type": "stream",
     "text": [
      "Analyzing outliers of column: construction_year\n"
     ]
    },
    {
     "data": {
      "image/png": "[encoded data removed]",
      "text/plain": [
       "<Figure size 720x720 with 1 Axes>"
      ]
     },
     "metadata": {
      "needs_background": "light"
     },
     "output_type": "display_data"
    },
    {
     "name": "stdout",
     "output_type": "stream",
     "text": [
      "Analyzing outliers of column: lat_replaced_0s\n"
     ]
    },
    {
     "data": {
      "image/png": "[encoded data removed]",
      "text/plain": [
       "<Figure size 720x720 with 1 Axes>"
      ]
     },
     "metadata": {
      "needs_background": "light"
     },
     "output_type": "display_data"
    }
   ],
   "source": [
    "for (columnName, _) in outlier_free_dataset.iteritems():\n",
    "    if columnName in [\"longitude\", \"lat_replaced_0s\", \"gps_height\", \"population\", \"construction_year\"]: #numeric columns\n",
    "        print(\"Analyzing outliers of column: {}\".format(columnName))\n",
    "        plt.figure(figsize=(10,10))\n",
    "        outlier_free_dataset.boxplot([columnName], grid=False, fontsize=15, whis=3)\n",
    "        plt.show()"
   ]
  },
  {
   "cell_type": "code",
   "execution_count": 24,
   "metadata": {},
   "outputs": [
    {
     "name": "stdout",
     "output_type": "stream",
     "text": [
      "-216.63289336385276\n",
      "601.0548222730879\n"
     ]
    },
    {
     "name": "stderr",
     "output_type": "stream",
     "text": [
      "C:\\Users\\nikit\\Anaconda3\\lib\\site-packages\\ipykernel_launcher.py:11: SettingWithCopyWarning: \n",
      "A value is trying to be set on a copy of a slice from a DataFrame.\n",
      "Try using .loc[row_indexer,col_indexer] = value instead\n",
      "\n",
      "See the caveats in the documentation: http://pandas.pydata.org/pandas-docs/stable/user_guide/indexing.html#returning-a-view-versus-a-copy\n",
      "  # This is added back by InteractiveShellApp.init_path()\n"
     ]
    }
   ],
   "source": [
    "#impute fence high for outliers\n",
    "q1 = outlier_free_dataset[\"population\"].quantile(0.25)\n",
    "q3 = outlier_free_dataset[\"population\"].quantile(0.75)\n",
    "iqr = q3-q1 #Interquartile range\n",
    "fence_low  = q1-1.5*iqr\n",
    "fence_high = q3+1.5*iqr\n",
    "\n",
    "print(fence_low)\n",
    "print(fence_high) \n",
    "\n",
    "outlier_free_dataset[\"population\"] = outlier_free_dataset[\"population\"].map(lambda x:\n",
    "                                                                           fence_low if x < fence_low else \n",
    "                                                                           (fence_high if x > fence_high else x))\n"
   ]
  },
  {
   "cell_type": "code",
   "execution_count": 25,
   "metadata": {},
   "outputs": [],
   "source": [
    "# separate cleaned train set and test set\n",
    "test_set_cleaned = dataset[dataset[\"train_or_test\"] == \"test\"]\n",
    "train_set_cleaned = outlier_free_dataset"
   ]
  },
  {
   "cell_type": "code",
   "execution_count": 26,
   "metadata": {},
   "outputs": [],
   "source": [
    "#append cleaned train set and test set\n",
    "cleaned_dataset = train_set_cleaned.append(test_set_cleaned)"
   ]
  },
  {
   "cell_type": "markdown",
   "metadata": {},
   "source": [
    "Now that we have treated the numerical columns, we will clean the categorical columns further. Specifically, we noticed that columns `funder`, `installer` and `scheme_management` have a high number of unique values. If we keep them all in the dataset, the dummified dataset will contain too many columns and the model will be overfitted to the train data. Therefore, we will remove them. Upon first evaluation, we kept the top 4-5 categories for each of the variables, however we noticed that our accuracy increased as we added more categories. Perhaps there is meaningful information in these levels that we excluded in our first evaluation."
   ]
  },
  {
   "cell_type": "markdown",
   "metadata": {},
   "source": [
    "#### Reduce the categories  - `funder`, `installer` and `scheme_management`"
   ]
  },
  {
   "cell_type": "code",
   "execution_count": 27,
   "metadata": {},
   "outputs": [],
   "source": [
    "#add the \"Other\" category to funder categories since it currently does not exist\n",
    "cleaned_dataset['funder'] = cleaned_dataset['funder'].cat.add_categories('Other')"
   ]
  },
  {
   "cell_type": "code",
   "execution_count": 28,
   "metadata": {},
   "outputs": [],
   "source": [
    "#Set values equal to \"Other\"\n",
    "funder_categories = [\"missing\", \"Government of Tanzania\", \"Danida\", \"Hesawa\", \"Rwssp\", \"World Bank\", \"Kkkt\", \"World Vision\", \"Unicef\", \"Tasaf\", \"Dhv\", \"District Council\"]\n",
    "    \n",
    "cleaned_dataset.loc[~cleaned_dataset[\"funder\"].isin(funder_categories), \"funder\"] = \"Other\""
   ]
  },
  {
   "cell_type": "code",
   "execution_count": 29,
   "metadata": {},
   "outputs": [
    {
     "data": {
      "text/plain": [
       "[Other, Unicef, Rwssp, Danida, World Vision, ..., District Council, Kkkt, Tasaf, World Bank, Dhv]\n",
       "Length: 12\n",
       "Categories (12, object): [Other, Unicef, Rwssp, Danida, ..., Kkkt, Tasaf, World Bank, Dhv]"
      ]
     },
     "execution_count": 29,
     "metadata": {},
     "output_type": "execute_result"
    }
   ],
   "source": [
    "#Check that it worked\n",
    "cleaned_dataset[\"funder\"].unique()"
   ]
  },
  {
   "cell_type": "code",
   "execution_count": 30,
   "metadata": {},
   "outputs": [],
   "source": [
    "#add the \"Other\" category to installer categories since it currently does not exist\n",
    "cleaned_dataset['installer'] = cleaned_dataset['installer'].cat.add_categories('Other')"
   ]
  },
  {
   "cell_type": "code",
   "execution_count": 31,
   "metadata": {},
   "outputs": [],
   "source": [
    "#Set values equal to \"Other\"\n",
    "installer_categories = [\"missing\", \"DWE\", \"Government\", \"RWE\", \"Commu\", \"DANIDA\", \"KKKT\", \"Hesawa\", \"0\", \"TCRS\", \"CES\", \"Central government\", \"DANID\", \"HESAWA\"]\n",
    "    \n",
    "cleaned_dataset.loc[~cleaned_dataset[\"installer\"].isin(installer_categories), \"installer\"] = \"Other\""
   ]
  },
  {
   "cell_type": "code",
   "execution_count": 32,
   "metadata": {},
   "outputs": [
    {
     "data": {
      "text/plain": [
       "[Other, DWE, DANIDA, missing, Central government, ..., CES, Hesawa, 0, DANID, TCRS]\n",
       "Length: 15\n",
       "Categories (15, object): [Other, DWE, DANIDA, missing, ..., Hesawa, 0, DANID, TCRS]"
      ]
     },
     "execution_count": 32,
     "metadata": {},
     "output_type": "execute_result"
    }
   ],
   "source": [
    "#Check that it worked\n",
    "cleaned_dataset[\"installer\"].unique()"
   ]
  },
  {
   "cell_type": "code",
   "execution_count": 33,
   "metadata": {},
   "outputs": [],
   "source": [
    "#Set values equal to \"Other\"\n",
    "scheme_categories = [\"missing\", \"VWC\", \"WUG\", \"Water Authority\", \"WUA\", \"Water Board\", \"Parastatal\", \"Company\", \"Private operator\"]\n",
    "    \n",
    "cleaned_dataset.loc[~cleaned_dataset[\"scheme_management\"].isin(scheme_categories), \"scheme_management\"] = \"Other\""
   ]
  },
  {
   "cell_type": "code",
   "execution_count": 34,
   "metadata": {},
   "outputs": [
    {
     "data": {
      "text/plain": [
       "[VWC, Other, missing, Private operator, WUG, Water Board, WUA, Company, Parastatal]\n",
       "Categories (9, object): [VWC, Other, missing, Private operator, ..., Water Board, WUA, Company, Parastatal]"
      ]
     },
     "execution_count": 34,
     "metadata": {},
     "output_type": "execute_result"
    }
   ],
   "source": [
    "#Check that it worked\n",
    "cleaned_dataset[\"scheme_management\"].unique()"
   ]
  },
  {
   "cell_type": "markdown",
   "metadata": {},
   "source": [
    "Now that our dataset has a reduced number of values in the categorical columns, we can add some variables that we think can improve accuracy of our model"
   ]
  },
  {
   "cell_type": "markdown",
   "metadata": {},
   "source": [
    "## Feature Creation"
   ]
  },
  {
   "cell_type": "markdown",
   "metadata": {},
   "source": [
    "We created two variables that could be useful in indicating the functionality of a well. During our exploratory phase, we discovered that certain geographical locations in the `lga` variable are more likely to have wells that are functional compared to other locations. We created a variable called `lga_functionality` which assigns each `lga` as functional, functional needs repair nonfunctional, or unknown based on the highest percentage of these classes in the location. If there was no strong indication of a class, we left it as unknown. We also created a variable called `yrs_of_op`, which is the difference between the year the well was constructed and the year the well was recorded in the dataset. Using intuition, we can assume that the older the well, the more likely it is to be nonfunctional or needing repairs. The importance of these variables will be tested once we build a model and generate the variables importance graph."
   ]
  },
  {
   "cell_type": "code",
   "execution_count": 35,
   "metadata": {},
   "outputs": [],
   "source": [
    "#feature creation - years of operation\n",
    "\n",
    "cleaned_dataset[\"recorded_year\"] = cleaned_dataset[\"date_recorded\"].dt.year\n",
    "\n",
    "cleaned_dataset[\"yrs_of_op\"] = (cleaned_dataset[\"recorded_year\"] - cleaned_dataset[\"construction_year\"])"
   ]
  },
  {
   "cell_type": "code",
   "execution_count": 36,
   "metadata": {},
   "outputs": [],
   "source": [
    "df = cleaned_dataset.merge(train_labels, on='id')\n",
    "df1 = df.groupby(['lga','status_group']).count()\n",
    "\n",
    "dic_func = {}\n",
    "\n",
    "for row in df1['id'].groupby(level=0):\n",
    "    try:\n",
    "        functional = row[1].xs('functional', level=1)[0]\n",
    "    except KeyError:\n",
    "        functional = 0\n",
    "    try:\n",
    "        functional_repair = row[1].xs('functional needs repair', level=1)[0]\n",
    "    except KeyError:\n",
    "        functional_repair = 0\n",
    "    try:\n",
    "        nonfunctional = row[1].xs('non functional', level=1)[0]\n",
    "    except KeyError:\n",
    "        nonfunctional = 0\n",
    "    \n",
    "    total = functional + nonfunctional + functional_repair\n",
    "    \n",
    "    functional = (functional/total) * 100\n",
    "    functional_repair = (functional_repair/total) * 100\n",
    "    nonfunctional = (nonfunctional/total) * 100\n",
    "    \n",
    "    status = [functional,functional_repair,nonfunctional]\n",
    "    status.sort(reverse = True)\n",
    "    \n",
    "    if status[0] > status[1] * 1.3:\n",
    "        if status[0] == functional:\n",
    "            dic_func[row[0]] = 'functional'\n",
    "        elif status[0] == functional_repair:\n",
    "            dic_func[row[0]] = 'functional needs repair'\n",
    "        else:\n",
    "            dic_func[row[0]] = 'non functional'\n",
    "    else:\n",
    "        dic_func[row[0]] = 'unknown'"
   ]
  },
  {
   "cell_type": "code",
   "execution_count": 37,
   "metadata": {},
   "outputs": [
    {
     "data": {
      "text/html": [
       "<div>\n",
       "<style scoped>\n",
       "    .dataframe tbody tr th:only-of-type {\n",
       "        vertical-align: middle;\n",
       "    }\n",
       "\n",
       "    .dataframe tbody tr th {\n",
       "        vertical-align: top;\n",
       "    }\n",
       "\n",
       "    .dataframe thead th {\n",
       "        text-align: right;\n",
       "    }\n",
       "</style>\n",
       "<table border=\"1\" class=\"dataframe\">\n",
       "  <thead>\n",
       "    <tr style=\"text-align: right;\">\n",
       "      <th></th>\n",
       "      <th>lga_functionality</th>\n",
       "      <th>lga</th>\n",
       "    </tr>\n",
       "  </thead>\n",
       "  <tbody>\n",
       "    <tr>\n",
       "      <td>0</td>\n",
       "      <td>functional</td>\n",
       "      <td>Ludewa</td>\n",
       "    </tr>\n",
       "    <tr>\n",
       "      <td>1</td>\n",
       "      <td>functional</td>\n",
       "      <td>Serengeti</td>\n",
       "    </tr>\n",
       "    <tr>\n",
       "      <td>2</td>\n",
       "      <td>functional</td>\n",
       "      <td>Simanjiro</td>\n",
       "    </tr>\n",
       "    <tr>\n",
       "      <td>3</td>\n",
       "      <td>non functional</td>\n",
       "      <td>Nanyumbu</td>\n",
       "    </tr>\n",
       "    <tr>\n",
       "      <td>4</td>\n",
       "      <td>unknown</td>\n",
       "      <td>Karagwe</td>\n",
       "    </tr>\n",
       "    <tr>\n",
       "      <td>...</td>\n",
       "      <td>...</td>\n",
       "      <td>...</td>\n",
       "    </tr>\n",
       "    <tr>\n",
       "      <td>14845</td>\n",
       "      <td>functional</td>\n",
       "      <td>Bagamoyo</td>\n",
       "    </tr>\n",
       "    <tr>\n",
       "      <td>14846</td>\n",
       "      <td>unknown</td>\n",
       "      <td>Kilindi</td>\n",
       "    </tr>\n",
       "    <tr>\n",
       "      <td>14847</td>\n",
       "      <td>unknown</td>\n",
       "      <td>Singida Rural</td>\n",
       "    </tr>\n",
       "    <tr>\n",
       "      <td>14848</td>\n",
       "      <td>functional</td>\n",
       "      <td>Songea Rural</td>\n",
       "    </tr>\n",
       "    <tr>\n",
       "      <td>14849</td>\n",
       "      <td>functional</td>\n",
       "      <td>Mbinga</td>\n",
       "    </tr>\n",
       "  </tbody>\n",
       "</table>\n",
       "<p>74250 rows × 2 columns</p>\n",
       "</div>"
      ],
      "text/plain": [
       "      lga_functionality            lga\n",
       "0            functional         Ludewa\n",
       "1            functional      Serengeti\n",
       "2            functional      Simanjiro\n",
       "3        non functional       Nanyumbu\n",
       "4               unknown        Karagwe\n",
       "...                 ...            ...\n",
       "14845        functional       Bagamoyo\n",
       "14846           unknown        Kilindi\n",
       "14847           unknown  Singida Rural\n",
       "14848        functional   Songea Rural\n",
       "14849        functional         Mbinga\n",
       "\n",
       "[74250 rows x 2 columns]"
      ]
     },
     "execution_count": 37,
     "metadata": {},
     "output_type": "execute_result"
    }
   ],
   "source": [
    "cleaned_dataset['lga_functionality'] = cleaned_dataset['lga'].map(lambda x: dic_func[x])\n",
    "cleaned_dataset[['lga_functionality','lga']]"
   ]
  },
  {
   "cell_type": "code",
   "execution_count": 38,
   "metadata": {},
   "outputs": [],
   "source": [
    "cleaned_dataset.drop([\"lga\"], axis=1, inplace=True)"
   ]
  },
  {
   "cell_type": "code",
   "execution_count": 39,
   "metadata": {},
   "outputs": [],
   "source": [
    "cleaned_dataset[\"lga_functionality\"] = cleaned_dataset[\"lga_functionality\"].astype(\"category\")"
   ]
  },
  {
   "cell_type": "markdown",
   "metadata": {},
   "source": [
    "Now that we are satisfied with the data type and information of every variable in our dataset, we can dummify the dataset for modeling."
   ]
  },
  {
   "cell_type": "markdown",
   "metadata": {},
   "source": [
    "## Dummify the dataset"
   ]
  },
  {
   "cell_type": "code",
   "execution_count": 40,
   "metadata": {},
   "outputs": [
    {
     "data": {
      "text/plain": [
       "id                                int64\n",
       "date_recorded            datetime64[ns]\n",
       "funder                         category\n",
       "gps_height                      float64\n",
       "installer                      category\n",
       "longitude                       float64\n",
       "basin                          category\n",
       "region                         category\n",
       "population                      float64\n",
       "scheme_management              category\n",
       "permit                         category\n",
       "construction_year                 int64\n",
       "extraction_type_class          category\n",
       "management                     category\n",
       "payment_type                   category\n",
       "water_quality                  category\n",
       "quantity                       category\n",
       "source                         category\n",
       "waterpoint_type_group          category\n",
       "train_or_test                    object\n",
       "lat_replaced_0s                 float64\n",
       "recorded_year                     int64\n",
       "yrs_of_op                         int64\n",
       "lga_functionality              category\n",
       "dtype: object"
      ]
     },
     "execution_count": 40,
     "metadata": {},
     "output_type": "execute_result"
    }
   ],
   "source": [
    "cleaned_dataset.dtypes"
   ]
  },
  {
   "cell_type": "code",
   "execution_count": 41,
   "metadata": {},
   "outputs": [],
   "source": [
    "from sklearn.preprocessing import OneHotEncoder, StandardScaler, MinMaxScaler\n",
    "\n",
    "categorical_cols = cleaned_dataset.columns[cleaned_dataset.dtypes=='category'].tolist()\n",
    "numerical_cols = cleaned_dataset.columns[cleaned_dataset.dtypes!='category'].tolist()\n",
    "\n",
    "numerical_cols.remove(\"id\")\n",
    "numerical_cols.remove(\"date_recorded\")\n",
    "numerical_cols.remove(\"train_or_test\")\n",
    "numerical_cols.remove(\"construction_year\")\n",
    "\n",
    "ohe = OneHotEncoder()\n",
    "std_scaler = StandardScaler()\n",
    "mms = MinMaxScaler()"
   ]
  },
  {
   "cell_type": "code",
   "execution_count": 42,
   "metadata": {},
   "outputs": [],
   "source": [
    "#make sure all values in the categorical columns are strings, so that OHE will work\n",
    "for i in categorical_cols:\n",
    "    cleaned_dataset[i] = cleaned_dataset[i].astype(str)"
   ]
  },
  {
   "cell_type": "code",
   "execution_count": 43,
   "metadata": {},
   "outputs": [],
   "source": [
    "#convert back into category so that OHE will work\n",
    "for i in categorical_cols:\n",
    "    cleaned_dataset[i] = cleaned_dataset[i].astype(\"category\")"
   ]
  },
  {
   "cell_type": "code",
   "execution_count": 44,
   "metadata": {},
   "outputs": [],
   "source": [
    "#ensure all values in numerical columns are indeed numerical, so that normalizing will work\n",
    "for i in numerical_cols:\n",
    "    cleaned_dataset[i] = cleaned_dataset[i].astype(int)"
   ]
  },
  {
   "cell_type": "code",
   "execution_count": 45,
   "metadata": {},
   "outputs": [],
   "source": [
    "dummified_dataset = pd.concat([cleaned_dataset['id'].reset_index(drop=True),\n",
    "                               cleaned_dataset['train_or_test'].reset_index(drop=True),\n",
    "                              cleaned_dataset['date_recorded'].reset_index(drop=True),\n",
    "                               cleaned_dataset['construction_year'].reset_index(drop=True),\n",
    "                               pd.DataFrame(mms.fit_transform(std_scaler.fit_transform(cleaned_dataset[numerical_cols])), columns=numerical_cols).reset_index(drop=True),                    \n",
    "                               pd.DataFrame(ohe.fit_transform(cleaned_dataset[categorical_cols]).toarray(), columns=ohe.get_feature_names(categorical_cols)).reset_index(drop=True)], sort=True, axis=1)"
   ]
  },
  {
   "cell_type": "code",
   "execution_count": 46,
   "metadata": {},
   "outputs": [
    {
     "data": {
      "text/html": [
       "<div>\n",
       "<style scoped>\n",
       "    .dataframe tbody tr th:only-of-type {\n",
       "        vertical-align: middle;\n",
       "    }\n",
       "\n",
       "    .dataframe tbody tr th {\n",
       "        vertical-align: top;\n",
       "    }\n",
       "\n",
       "    .dataframe thead th {\n",
       "        text-align: right;\n",
       "    }\n",
       "</style>\n",
       "<table border=\"1\" class=\"dataframe\">\n",
       "  <thead>\n",
       "    <tr style=\"text-align: right;\">\n",
       "      <th></th>\n",
       "      <th>id</th>\n",
       "      <th>train_or_test</th>\n",
       "      <th>date_recorded</th>\n",
       "      <th>construction_year</th>\n",
       "      <th>gps_height</th>\n",
       "      <th>longitude</th>\n",
       "      <th>population</th>\n",
       "      <th>lat_replaced_0s</th>\n",
       "      <th>recorded_year</th>\n",
       "      <th>yrs_of_op</th>\n",
       "      <th>funder_Danida</th>\n",
       "      <th>funder_Dhv</th>\n",
       "      <th>funder_District Council</th>\n",
       "      <th>funder_Hesawa</th>\n",
       "      <th>funder_Kkkt</th>\n",
       "      <th>funder_Other</th>\n",
       "      <th>funder_Rwssp</th>\n",
       "      <th>funder_Tasaf</th>\n",
       "      <th>funder_Unicef</th>\n",
       "      <th>funder_World Bank</th>\n",
       "      <th>...</th>\n",
       "      <th>quantity_unknown</th>\n",
       "      <th>source_dam</th>\n",
       "      <th>source_hand dtw</th>\n",
       "      <th>source_lake</th>\n",
       "      <th>source_machine dbh</th>\n",
       "      <th>source_other</th>\n",
       "      <th>source_rainwater harvesting</th>\n",
       "      <th>source_river</th>\n",
       "      <th>source_shallow well</th>\n",
       "      <th>source_spring</th>\n",
       "      <th>source_unknown</th>\n",
       "      <th>waterpoint_type_group_cattle trough</th>\n",
       "      <th>waterpoint_type_group_communal standpipe</th>\n",
       "      <th>waterpoint_type_group_dam</th>\n",
       "      <th>waterpoint_type_group_hand pump</th>\n",
       "      <th>waterpoint_type_group_improved spring</th>\n",
       "      <th>waterpoint_type_group_other</th>\n",
       "      <th>lga_functionality_functional</th>\n",
       "      <th>lga_functionality_non functional</th>\n",
       "      <th>lga_functionality_unknown</th>\n",
       "    </tr>\n",
       "  </thead>\n",
       "  <tbody>\n",
       "    <tr>\n",
       "      <td>0</td>\n",
       "      <td>69572</td>\n",
       "      <td>train</td>\n",
       "      <td>2011-03-14</td>\n",
       "      <td>1999</td>\n",
       "      <td>0.516219</td>\n",
       "      <td>0.454545</td>\n",
       "      <td>0.009418</td>\n",
       "      <td>0.181818</td>\n",
       "      <td>0.833333</td>\n",
       "      <td>0.316667</td>\n",
       "      <td>0.0</td>\n",
       "      <td>0.0</td>\n",
       "      <td>0.0</td>\n",
       "      <td>0.0</td>\n",
       "      <td>0.0</td>\n",
       "      <td>1.0</td>\n",
       "      <td>0.0</td>\n",
       "      <td>0.0</td>\n",
       "      <td>0.0</td>\n",
       "      <td>0.0</td>\n",
       "      <td>...</td>\n",
       "      <td>0.0</td>\n",
       "      <td>0.0</td>\n",
       "      <td>0.0</td>\n",
       "      <td>0.0</td>\n",
       "      <td>0.0</td>\n",
       "      <td>0.0</td>\n",
       "      <td>0.0</td>\n",
       "      <td>0.0</td>\n",
       "      <td>0.0</td>\n",
       "      <td>1.0</td>\n",
       "      <td>0.0</td>\n",
       "      <td>0.0</td>\n",
       "      <td>1.0</td>\n",
       "      <td>0.0</td>\n",
       "      <td>0.0</td>\n",
       "      <td>0.0</td>\n",
       "      <td>0.0</td>\n",
       "      <td>1.0</td>\n",
       "      <td>0.0</td>\n",
       "      <td>0.0</td>\n",
       "    </tr>\n",
       "    <tr>\n",
       "      <td>1</td>\n",
       "      <td>8776</td>\n",
       "      <td>train</td>\n",
       "      <td>2013-03-06</td>\n",
       "      <td>2010</td>\n",
       "      <td>0.519358</td>\n",
       "      <td>0.454545</td>\n",
       "      <td>0.024329</td>\n",
       "      <td>0.818182</td>\n",
       "      <td>1.000000</td>\n",
       "      <td>0.166667</td>\n",
       "      <td>0.0</td>\n",
       "      <td>0.0</td>\n",
       "      <td>0.0</td>\n",
       "      <td>0.0</td>\n",
       "      <td>0.0</td>\n",
       "      <td>1.0</td>\n",
       "      <td>0.0</td>\n",
       "      <td>0.0</td>\n",
       "      <td>0.0</td>\n",
       "      <td>0.0</td>\n",
       "      <td>...</td>\n",
       "      <td>0.0</td>\n",
       "      <td>0.0</td>\n",
       "      <td>0.0</td>\n",
       "      <td>0.0</td>\n",
       "      <td>0.0</td>\n",
       "      <td>0.0</td>\n",
       "      <td>1.0</td>\n",
       "      <td>0.0</td>\n",
       "      <td>0.0</td>\n",
       "      <td>0.0</td>\n",
       "      <td>0.0</td>\n",
       "      <td>0.0</td>\n",
       "      <td>1.0</td>\n",
       "      <td>0.0</td>\n",
       "      <td>0.0</td>\n",
       "      <td>0.0</td>\n",
       "      <td>0.0</td>\n",
       "      <td>1.0</td>\n",
       "      <td>0.0</td>\n",
       "      <td>0.0</td>\n",
       "    </tr>\n",
       "    <tr>\n",
       "      <td>2</td>\n",
       "      <td>34310</td>\n",
       "      <td>train</td>\n",
       "      <td>2013-02-25</td>\n",
       "      <td>2009</td>\n",
       "      <td>0.270666</td>\n",
       "      <td>0.727273</td>\n",
       "      <td>0.021713</td>\n",
       "      <td>0.727273</td>\n",
       "      <td>1.000000</td>\n",
       "      <td>0.183333</td>\n",
       "      <td>0.0</td>\n",
       "      <td>0.0</td>\n",
       "      <td>0.0</td>\n",
       "      <td>0.0</td>\n",
       "      <td>0.0</td>\n",
       "      <td>1.0</td>\n",
       "      <td>0.0</td>\n",
       "      <td>0.0</td>\n",
       "      <td>0.0</td>\n",
       "      <td>0.0</td>\n",
       "      <td>...</td>\n",
       "      <td>0.0</td>\n",
       "      <td>1.0</td>\n",
       "      <td>0.0</td>\n",
       "      <td>0.0</td>\n",
       "      <td>0.0</td>\n",
       "      <td>0.0</td>\n",
       "      <td>0.0</td>\n",
       "      <td>0.0</td>\n",
       "      <td>0.0</td>\n",
       "      <td>0.0</td>\n",
       "      <td>0.0</td>\n",
       "      <td>0.0</td>\n",
       "      <td>1.0</td>\n",
       "      <td>0.0</td>\n",
       "      <td>0.0</td>\n",
       "      <td>0.0</td>\n",
       "      <td>0.0</td>\n",
       "      <td>1.0</td>\n",
       "      <td>0.0</td>\n",
       "      <td>0.0</td>\n",
       "    </tr>\n",
       "    <tr>\n",
       "      <td>3</td>\n",
       "      <td>67743</td>\n",
       "      <td>train</td>\n",
       "      <td>2013-01-28</td>\n",
       "      <td>1986</td>\n",
       "      <td>0.123125</td>\n",
       "      <td>0.818182</td>\n",
       "      <td>0.004970</td>\n",
       "      <td>0.000000</td>\n",
       "      <td>1.000000</td>\n",
       "      <td>0.566667</td>\n",
       "      <td>0.0</td>\n",
       "      <td>0.0</td>\n",
       "      <td>0.0</td>\n",
       "      <td>0.0</td>\n",
       "      <td>0.0</td>\n",
       "      <td>0.0</td>\n",
       "      <td>0.0</td>\n",
       "      <td>0.0</td>\n",
       "      <td>1.0</td>\n",
       "      <td>0.0</td>\n",
       "      <td>...</td>\n",
       "      <td>0.0</td>\n",
       "      <td>0.0</td>\n",
       "      <td>0.0</td>\n",
       "      <td>0.0</td>\n",
       "      <td>1.0</td>\n",
       "      <td>0.0</td>\n",
       "      <td>0.0</td>\n",
       "      <td>0.0</td>\n",
       "      <td>0.0</td>\n",
       "      <td>0.0</td>\n",
       "      <td>0.0</td>\n",
       "      <td>0.0</td>\n",
       "      <td>1.0</td>\n",
       "      <td>0.0</td>\n",
       "      <td>0.0</td>\n",
       "      <td>0.0</td>\n",
       "      <td>0.0</td>\n",
       "      <td>0.0</td>\n",
       "      <td>1.0</td>\n",
       "      <td>0.0</td>\n",
       "    </tr>\n",
       "    <tr>\n",
       "      <td>4</td>\n",
       "      <td>19728</td>\n",
       "      <td>train</td>\n",
       "      <td>2011-07-13</td>\n",
       "      <td>1986</td>\n",
       "      <td>0.385769</td>\n",
       "      <td>0.181818</td>\n",
       "      <td>0.025549</td>\n",
       "      <td>0.909091</td>\n",
       "      <td>0.833333</td>\n",
       "      <td>0.533333</td>\n",
       "      <td>0.0</td>\n",
       "      <td>0.0</td>\n",
       "      <td>0.0</td>\n",
       "      <td>0.0</td>\n",
       "      <td>0.0</td>\n",
       "      <td>1.0</td>\n",
       "      <td>0.0</td>\n",
       "      <td>0.0</td>\n",
       "      <td>0.0</td>\n",
       "      <td>0.0</td>\n",
       "      <td>...</td>\n",
       "      <td>0.0</td>\n",
       "      <td>0.0</td>\n",
       "      <td>0.0</td>\n",
       "      <td>0.0</td>\n",
       "      <td>0.0</td>\n",
       "      <td>0.0</td>\n",
       "      <td>1.0</td>\n",
       "      <td>0.0</td>\n",
       "      <td>0.0</td>\n",
       "      <td>0.0</td>\n",
       "      <td>0.0</td>\n",
       "      <td>0.0</td>\n",
       "      <td>1.0</td>\n",
       "      <td>0.0</td>\n",
       "      <td>0.0</td>\n",
       "      <td>0.0</td>\n",
       "      <td>0.0</td>\n",
       "      <td>0.0</td>\n",
       "      <td>0.0</td>\n",
       "      <td>1.0</td>\n",
       "    </tr>\n",
       "  </tbody>\n",
       "</table>\n",
       "<p>5 rows × 137 columns</p>\n",
       "</div>"
      ],
      "text/plain": [
       "      id train_or_test date_recorded  construction_year  gps_height  \\\n",
       "0  69572         train    2011-03-14               1999    0.516219   \n",
       "1   8776         train    2013-03-06               2010    0.519358   \n",
       "2  34310         train    2013-02-25               2009    0.270666   \n",
       "3  67743         train    2013-01-28               1986    0.123125   \n",
       "4  19728         train    2011-07-13               1986    0.385769   \n",
       "\n",
       "   longitude  population  lat_replaced_0s  recorded_year  yrs_of_op  \\\n",
       "0   0.454545    0.009418         0.181818       0.833333   0.316667   \n",
       "1   0.454545    0.024329         0.818182       1.000000   0.166667   \n",
       "2   0.727273    0.021713         0.727273       1.000000   0.183333   \n",
       "3   0.818182    0.004970         0.000000       1.000000   0.566667   \n",
       "4   0.181818    0.025549         0.909091       0.833333   0.533333   \n",
       "\n",
       "   funder_Danida  funder_Dhv  funder_District Council  funder_Hesawa  \\\n",
       "0            0.0         0.0                      0.0            0.0   \n",
       "1            0.0         0.0                      0.0            0.0   \n",
       "2            0.0         0.0                      0.0            0.0   \n",
       "3            0.0         0.0                      0.0            0.0   \n",
       "4            0.0         0.0                      0.0            0.0   \n",
       "\n",
       "   funder_Kkkt  funder_Other  funder_Rwssp  funder_Tasaf  funder_Unicef  \\\n",
       "0          0.0           1.0           0.0           0.0            0.0   \n",
       "1          0.0           1.0           0.0           0.0            0.0   \n",
       "2          0.0           1.0           0.0           0.0            0.0   \n",
       "3          0.0           0.0           0.0           0.0            1.0   \n",
       "4          0.0           1.0           0.0           0.0            0.0   \n",
       "\n",
       "   funder_World Bank  ...  quantity_unknown  source_dam  source_hand dtw  \\\n",
       "0                0.0  ...               0.0         0.0              0.0   \n",
       "1                0.0  ...               0.0         0.0              0.0   \n",
       "2                0.0  ...               0.0         1.0              0.0   \n",
       "3                0.0  ...               0.0         0.0              0.0   \n",
       "4                0.0  ...               0.0         0.0              0.0   \n",
       "\n",
       "   source_lake  source_machine dbh  source_other  source_rainwater harvesting  \\\n",
       "0          0.0                 0.0           0.0                          0.0   \n",
       "1          0.0                 0.0           0.0                          1.0   \n",
       "2          0.0                 0.0           0.0                          0.0   \n",
       "3          0.0                 1.0           0.0                          0.0   \n",
       "4          0.0                 0.0           0.0                          1.0   \n",
       "\n",
       "   source_river  source_shallow well  source_spring  source_unknown  \\\n",
       "0           0.0                  0.0            1.0             0.0   \n",
       "1           0.0                  0.0            0.0             0.0   \n",
       "2           0.0                  0.0            0.0             0.0   \n",
       "3           0.0                  0.0            0.0             0.0   \n",
       "4           0.0                  0.0            0.0             0.0   \n",
       "\n",
       "   waterpoint_type_group_cattle trough  \\\n",
       "0                                  0.0   \n",
       "1                                  0.0   \n",
       "2                                  0.0   \n",
       "3                                  0.0   \n",
       "4                                  0.0   \n",
       "\n",
       "   waterpoint_type_group_communal standpipe  waterpoint_type_group_dam  \\\n",
       "0                                       1.0                        0.0   \n",
       "1                                       1.0                        0.0   \n",
       "2                                       1.0                        0.0   \n",
       "3                                       1.0                        0.0   \n",
       "4                                       1.0                        0.0   \n",
       "\n",
       "   waterpoint_type_group_hand pump  waterpoint_type_group_improved spring  \\\n",
       "0                              0.0                                    0.0   \n",
       "1                              0.0                                    0.0   \n",
       "2                              0.0                                    0.0   \n",
       "3                              0.0                                    0.0   \n",
       "4                              0.0                                    0.0   \n",
       "\n",
       "   waterpoint_type_group_other  lga_functionality_functional  \\\n",
       "0                          0.0                           1.0   \n",
       "1                          0.0                           1.0   \n",
       "2                          0.0                           1.0   \n",
       "3                          0.0                           0.0   \n",
       "4                          0.0                           0.0   \n",
       "\n",
       "   lga_functionality_non functional  lga_functionality_unknown  \n",
       "0                               0.0                        0.0  \n",
       "1                               0.0                        0.0  \n",
       "2                               0.0                        0.0  \n",
       "3                               1.0                        0.0  \n",
       "4                               0.0                        1.0  \n",
       "\n",
       "[5 rows x 137 columns]"
      ]
     },
     "execution_count": 46,
     "metadata": {},
     "output_type": "execute_result"
    }
   ],
   "source": [
    "dummified_dataset.head()"
   ]
  },
  {
   "cell_type": "code",
   "execution_count": 47,
   "metadata": {},
   "outputs": [],
   "source": [
    "#convert floats to ints\n",
    "dummified_dataset = dummified_dataset.iloc[:, :6].join(dummified_dataset.iloc[:, 6:].astype(int), sort=True)"
   ]
  },
  {
   "cell_type": "code",
   "execution_count": 48,
   "metadata": {},
   "outputs": [
    {
     "data": {
      "text/html": [
       "<div>\n",
       "<style scoped>\n",
       "    .dataframe tbody tr th:only-of-type {\n",
       "        vertical-align: middle;\n",
       "    }\n",
       "\n",
       "    .dataframe tbody tr th {\n",
       "        vertical-align: top;\n",
       "    }\n",
       "\n",
       "    .dataframe thead th {\n",
       "        text-align: right;\n",
       "    }\n",
       "</style>\n",
       "<table border=\"1\" class=\"dataframe\">\n",
       "  <thead>\n",
       "    <tr style=\"text-align: right;\">\n",
       "      <th></th>\n",
       "      <th>id</th>\n",
       "      <th>train_or_test</th>\n",
       "      <th>date_recorded</th>\n",
       "      <th>construction_year</th>\n",
       "      <th>gps_height</th>\n",
       "      <th>longitude</th>\n",
       "      <th>population</th>\n",
       "      <th>lat_replaced_0s</th>\n",
       "      <th>recorded_year</th>\n",
       "      <th>yrs_of_op</th>\n",
       "      <th>funder_Danida</th>\n",
       "      <th>funder_Dhv</th>\n",
       "      <th>funder_District Council</th>\n",
       "      <th>funder_Hesawa</th>\n",
       "      <th>funder_Kkkt</th>\n",
       "      <th>funder_Other</th>\n",
       "      <th>funder_Rwssp</th>\n",
       "      <th>funder_Tasaf</th>\n",
       "      <th>funder_Unicef</th>\n",
       "      <th>funder_World Bank</th>\n",
       "      <th>...</th>\n",
       "      <th>quantity_unknown</th>\n",
       "      <th>source_dam</th>\n",
       "      <th>source_hand dtw</th>\n",
       "      <th>source_lake</th>\n",
       "      <th>source_machine dbh</th>\n",
       "      <th>source_other</th>\n",
       "      <th>source_rainwater harvesting</th>\n",
       "      <th>source_river</th>\n",
       "      <th>source_shallow well</th>\n",
       "      <th>source_spring</th>\n",
       "      <th>source_unknown</th>\n",
       "      <th>waterpoint_type_group_cattle trough</th>\n",
       "      <th>waterpoint_type_group_communal standpipe</th>\n",
       "      <th>waterpoint_type_group_dam</th>\n",
       "      <th>waterpoint_type_group_hand pump</th>\n",
       "      <th>waterpoint_type_group_improved spring</th>\n",
       "      <th>waterpoint_type_group_other</th>\n",
       "      <th>lga_functionality_functional</th>\n",
       "      <th>lga_functionality_non functional</th>\n",
       "      <th>lga_functionality_unknown</th>\n",
       "    </tr>\n",
       "  </thead>\n",
       "  <tbody>\n",
       "    <tr>\n",
       "      <td>0</td>\n",
       "      <td>69572</td>\n",
       "      <td>train</td>\n",
       "      <td>2011-03-14</td>\n",
       "      <td>1999</td>\n",
       "      <td>0.516219</td>\n",
       "      <td>0.454545</td>\n",
       "      <td>0</td>\n",
       "      <td>0</td>\n",
       "      <td>0</td>\n",
       "      <td>0</td>\n",
       "      <td>0</td>\n",
       "      <td>0</td>\n",
       "      <td>0</td>\n",
       "      <td>0</td>\n",
       "      <td>0</td>\n",
       "      <td>1</td>\n",
       "      <td>0</td>\n",
       "      <td>0</td>\n",
       "      <td>0</td>\n",
       "      <td>0</td>\n",
       "      <td>...</td>\n",
       "      <td>0</td>\n",
       "      <td>0</td>\n",
       "      <td>0</td>\n",
       "      <td>0</td>\n",
       "      <td>0</td>\n",
       "      <td>0</td>\n",
       "      <td>0</td>\n",
       "      <td>0</td>\n",
       "      <td>0</td>\n",
       "      <td>1</td>\n",
       "      <td>0</td>\n",
       "      <td>0</td>\n",
       "      <td>1</td>\n",
       "      <td>0</td>\n",
       "      <td>0</td>\n",
       "      <td>0</td>\n",
       "      <td>0</td>\n",
       "      <td>1</td>\n",
       "      <td>0</td>\n",
       "      <td>0</td>\n",
       "    </tr>\n",
       "    <tr>\n",
       "      <td>1</td>\n",
       "      <td>8776</td>\n",
       "      <td>train</td>\n",
       "      <td>2013-03-06</td>\n",
       "      <td>2010</td>\n",
       "      <td>0.519358</td>\n",
       "      <td>0.454545</td>\n",
       "      <td>0</td>\n",
       "      <td>0</td>\n",
       "      <td>1</td>\n",
       "      <td>0</td>\n",
       "      <td>0</td>\n",
       "      <td>0</td>\n",
       "      <td>0</td>\n",
       "      <td>0</td>\n",
       "      <td>0</td>\n",
       "      <td>1</td>\n",
       "      <td>0</td>\n",
       "      <td>0</td>\n",
       "      <td>0</td>\n",
       "      <td>0</td>\n",
       "      <td>...</td>\n",
       "      <td>0</td>\n",
       "      <td>0</td>\n",
       "      <td>0</td>\n",
       "      <td>0</td>\n",
       "      <td>0</td>\n",
       "      <td>0</td>\n",
       "      <td>1</td>\n",
       "      <td>0</td>\n",
       "      <td>0</td>\n",
       "      <td>0</td>\n",
       "      <td>0</td>\n",
       "      <td>0</td>\n",
       "      <td>1</td>\n",
       "      <td>0</td>\n",
       "      <td>0</td>\n",
       "      <td>0</td>\n",
       "      <td>0</td>\n",
       "      <td>1</td>\n",
       "      <td>0</td>\n",
       "      <td>0</td>\n",
       "    </tr>\n",
       "    <tr>\n",
       "      <td>2</td>\n",
       "      <td>34310</td>\n",
       "      <td>train</td>\n",
       "      <td>2013-02-25</td>\n",
       "      <td>2009</td>\n",
       "      <td>0.270666</td>\n",
       "      <td>0.727273</td>\n",
       "      <td>0</td>\n",
       "      <td>0</td>\n",
       "      <td>1</td>\n",
       "      <td>0</td>\n",
       "      <td>0</td>\n",
       "      <td>0</td>\n",
       "      <td>0</td>\n",
       "      <td>0</td>\n",
       "      <td>0</td>\n",
       "      <td>1</td>\n",
       "      <td>0</td>\n",
       "      <td>0</td>\n",
       "      <td>0</td>\n",
       "      <td>0</td>\n",
       "      <td>...</td>\n",
       "      <td>0</td>\n",
       "      <td>1</td>\n",
       "      <td>0</td>\n",
       "      <td>0</td>\n",
       "      <td>0</td>\n",
       "      <td>0</td>\n",
       "      <td>0</td>\n",
       "      <td>0</td>\n",
       "      <td>0</td>\n",
       "      <td>0</td>\n",
       "      <td>0</td>\n",
       "      <td>0</td>\n",
       "      <td>1</td>\n",
       "      <td>0</td>\n",
       "      <td>0</td>\n",
       "      <td>0</td>\n",
       "      <td>0</td>\n",
       "      <td>1</td>\n",
       "      <td>0</td>\n",
       "      <td>0</td>\n",
       "    </tr>\n",
       "    <tr>\n",
       "      <td>3</td>\n",
       "      <td>67743</td>\n",
       "      <td>train</td>\n",
       "      <td>2013-01-28</td>\n",
       "      <td>1986</td>\n",
       "      <td>0.123125</td>\n",
       "      <td>0.818182</td>\n",
       "      <td>0</td>\n",
       "      <td>0</td>\n",
       "      <td>1</td>\n",
       "      <td>0</td>\n",
       "      <td>0</td>\n",
       "      <td>0</td>\n",
       "      <td>0</td>\n",
       "      <td>0</td>\n",
       "      <td>0</td>\n",
       "      <td>0</td>\n",
       "      <td>0</td>\n",
       "      <td>0</td>\n",
       "      <td>1</td>\n",
       "      <td>0</td>\n",
       "      <td>...</td>\n",
       "      <td>0</td>\n",
       "      <td>0</td>\n",
       "      <td>0</td>\n",
       "      <td>0</td>\n",
       "      <td>1</td>\n",
       "      <td>0</td>\n",
       "      <td>0</td>\n",
       "      <td>0</td>\n",
       "      <td>0</td>\n",
       "      <td>0</td>\n",
       "      <td>0</td>\n",
       "      <td>0</td>\n",
       "      <td>1</td>\n",
       "      <td>0</td>\n",
       "      <td>0</td>\n",
       "      <td>0</td>\n",
       "      <td>0</td>\n",
       "      <td>0</td>\n",
       "      <td>1</td>\n",
       "      <td>0</td>\n",
       "    </tr>\n",
       "    <tr>\n",
       "      <td>4</td>\n",
       "      <td>19728</td>\n",
       "      <td>train</td>\n",
       "      <td>2011-07-13</td>\n",
       "      <td>1986</td>\n",
       "      <td>0.385769</td>\n",
       "      <td>0.181818</td>\n",
       "      <td>0</td>\n",
       "      <td>0</td>\n",
       "      <td>0</td>\n",
       "      <td>0</td>\n",
       "      <td>0</td>\n",
       "      <td>0</td>\n",
       "      <td>0</td>\n",
       "      <td>0</td>\n",
       "      <td>0</td>\n",
       "      <td>1</td>\n",
       "      <td>0</td>\n",
       "      <td>0</td>\n",
       "      <td>0</td>\n",
       "      <td>0</td>\n",
       "      <td>...</td>\n",
       "      <td>0</td>\n",
       "      <td>0</td>\n",
       "      <td>0</td>\n",
       "      <td>0</td>\n",
       "      <td>0</td>\n",
       "      <td>0</td>\n",
       "      <td>1</td>\n",
       "      <td>0</td>\n",
       "      <td>0</td>\n",
       "      <td>0</td>\n",
       "      <td>0</td>\n",
       "      <td>0</td>\n",
       "      <td>1</td>\n",
       "      <td>0</td>\n",
       "      <td>0</td>\n",
       "      <td>0</td>\n",
       "      <td>0</td>\n",
       "      <td>0</td>\n",
       "      <td>0</td>\n",
       "      <td>1</td>\n",
       "    </tr>\n",
       "  </tbody>\n",
       "</table>\n",
       "<p>5 rows × 137 columns</p>\n",
       "</div>"
      ],
      "text/plain": [
       "      id train_or_test date_recorded  construction_year  gps_height  \\\n",
       "0  69572         train    2011-03-14               1999    0.516219   \n",
       "1   8776         train    2013-03-06               2010    0.519358   \n",
       "2  34310         train    2013-02-25               2009    0.270666   \n",
       "3  67743         train    2013-01-28               1986    0.123125   \n",
       "4  19728         train    2011-07-13               1986    0.385769   \n",
       "\n",
       "   longitude  population  lat_replaced_0s  recorded_year  yrs_of_op  \\\n",
       "0   0.454545           0                0              0          0   \n",
       "1   0.454545           0                0              1          0   \n",
       "2   0.727273           0                0              1          0   \n",
       "3   0.818182           0                0              1          0   \n",
       "4   0.181818           0                0              0          0   \n",
       "\n",
       "   funder_Danida  funder_Dhv  funder_District Council  funder_Hesawa  \\\n",
       "0              0           0                        0              0   \n",
       "1              0           0                        0              0   \n",
       "2              0           0                        0              0   \n",
       "3              0           0                        0              0   \n",
       "4              0           0                        0              0   \n",
       "\n",
       "   funder_Kkkt  funder_Other  funder_Rwssp  funder_Tasaf  funder_Unicef  \\\n",
       "0            0             1             0             0              0   \n",
       "1            0             1             0             0              0   \n",
       "2            0             1             0             0              0   \n",
       "3            0             0             0             0              1   \n",
       "4            0             1             0             0              0   \n",
       "\n",
       "   funder_World Bank  ...  quantity_unknown  source_dam  source_hand dtw  \\\n",
       "0                  0  ...                 0           0                0   \n",
       "1                  0  ...                 0           0                0   \n",
       "2                  0  ...                 0           1                0   \n",
       "3                  0  ...                 0           0                0   \n",
       "4                  0  ...                 0           0                0   \n",
       "\n",
       "   source_lake  source_machine dbh  source_other  source_rainwater harvesting  \\\n",
       "0            0                   0             0                            0   \n",
       "1            0                   0             0                            1   \n",
       "2            0                   0             0                            0   \n",
       "3            0                   1             0                            0   \n",
       "4            0                   0             0                            1   \n",
       "\n",
       "   source_river  source_shallow well  source_spring  source_unknown  \\\n",
       "0             0                    0              1               0   \n",
       "1             0                    0              0               0   \n",
       "2             0                    0              0               0   \n",
       "3             0                    0              0               0   \n",
       "4             0                    0              0               0   \n",
       "\n",
       "   waterpoint_type_group_cattle trough  \\\n",
       "0                                    0   \n",
       "1                                    0   \n",
       "2                                    0   \n",
       "3                                    0   \n",
       "4                                    0   \n",
       "\n",
       "   waterpoint_type_group_communal standpipe  waterpoint_type_group_dam  \\\n",
       "0                                         1                          0   \n",
       "1                                         1                          0   \n",
       "2                                         1                          0   \n",
       "3                                         1                          0   \n",
       "4                                         1                          0   \n",
       "\n",
       "   waterpoint_type_group_hand pump  waterpoint_type_group_improved spring  \\\n",
       "0                                0                                      0   \n",
       "1                                0                                      0   \n",
       "2                                0                                      0   \n",
       "3                                0                                      0   \n",
       "4                                0                                      0   \n",
       "\n",
       "   waterpoint_type_group_other  lga_functionality_functional  \\\n",
       "0                            0                             1   \n",
       "1                            0                             1   \n",
       "2                            0                             1   \n",
       "3                            0                             0   \n",
       "4                            0                             0   \n",
       "\n",
       "   lga_functionality_non functional  lga_functionality_unknown  \n",
       "0                                 0                          0  \n",
       "1                                 0                          0  \n",
       "2                                 0                          0  \n",
       "3                                 1                          0  \n",
       "4                                 0                          1  \n",
       "\n",
       "[5 rows x 137 columns]"
      ]
     },
     "execution_count": 48,
     "metadata": {},
     "output_type": "execute_result"
    }
   ],
   "source": [
    "dummified_dataset.head()"
   ]
  },
  {
   "cell_type": "code",
   "execution_count": 49,
   "metadata": {},
   "outputs": [],
   "source": [
    "#split the dataset into train and test\n",
    "train_cleaned = dummified_dataset[dummified_dataset['train_or_test'] == \"train\"]\n",
    "test_cleaned = dummified_dataset[dummified_dataset['train_or_test'] == \"test\"]"
   ]
  },
  {
   "cell_type": "code",
   "execution_count": 50,
   "metadata": {},
   "outputs": [],
   "source": [
    "#add the labels to the train set\n",
    "train_cleaned = train_cleaned.merge(train_labels, on=\"id\")"
   ]
  },
  {
   "cell_type": "code",
   "execution_count": 51,
   "metadata": {},
   "outputs": [],
   "source": [
    "train_cleaned = train_cleaned.drop(['train_or_test'],axis=1)"
   ]
  },
  {
   "cell_type": "code",
   "execution_count": 52,
   "metadata": {},
   "outputs": [
    {
     "data": {
      "text/html": [
       "<div>\n",
       "<style scoped>\n",
       "    .dataframe tbody tr th:only-of-type {\n",
       "        vertical-align: middle;\n",
       "    }\n",
       "\n",
       "    .dataframe tbody tr th {\n",
       "        vertical-align: top;\n",
       "    }\n",
       "\n",
       "    .dataframe thead th {\n",
       "        text-align: right;\n",
       "    }\n",
       "</style>\n",
       "<table border=\"1\" class=\"dataframe\">\n",
       "  <thead>\n",
       "    <tr style=\"text-align: right;\">\n",
       "      <th></th>\n",
       "      <th>id</th>\n",
       "      <th>date_recorded</th>\n",
       "      <th>construction_year</th>\n",
       "      <th>gps_height</th>\n",
       "      <th>longitude</th>\n",
       "      <th>population</th>\n",
       "      <th>lat_replaced_0s</th>\n",
       "      <th>recorded_year</th>\n",
       "      <th>yrs_of_op</th>\n",
       "      <th>funder_Danida</th>\n",
       "      <th>funder_Dhv</th>\n",
       "      <th>funder_District Council</th>\n",
       "      <th>funder_Hesawa</th>\n",
       "      <th>funder_Kkkt</th>\n",
       "      <th>funder_Other</th>\n",
       "      <th>funder_Rwssp</th>\n",
       "      <th>funder_Tasaf</th>\n",
       "      <th>funder_Unicef</th>\n",
       "      <th>funder_World Bank</th>\n",
       "      <th>funder_World Vision</th>\n",
       "      <th>...</th>\n",
       "      <th>source_dam</th>\n",
       "      <th>source_hand dtw</th>\n",
       "      <th>source_lake</th>\n",
       "      <th>source_machine dbh</th>\n",
       "      <th>source_other</th>\n",
       "      <th>source_rainwater harvesting</th>\n",
       "      <th>source_river</th>\n",
       "      <th>source_shallow well</th>\n",
       "      <th>source_spring</th>\n",
       "      <th>source_unknown</th>\n",
       "      <th>waterpoint_type_group_cattle trough</th>\n",
       "      <th>waterpoint_type_group_communal standpipe</th>\n",
       "      <th>waterpoint_type_group_dam</th>\n",
       "      <th>waterpoint_type_group_hand pump</th>\n",
       "      <th>waterpoint_type_group_improved spring</th>\n",
       "      <th>waterpoint_type_group_other</th>\n",
       "      <th>lga_functionality_functional</th>\n",
       "      <th>lga_functionality_non functional</th>\n",
       "      <th>lga_functionality_unknown</th>\n",
       "      <th>status_group</th>\n",
       "    </tr>\n",
       "  </thead>\n",
       "  <tbody>\n",
       "    <tr>\n",
       "      <td>0</td>\n",
       "      <td>69572</td>\n",
       "      <td>2011-03-14</td>\n",
       "      <td>1999</td>\n",
       "      <td>0.516219</td>\n",
       "      <td>0.454545</td>\n",
       "      <td>0</td>\n",
       "      <td>0</td>\n",
       "      <td>0</td>\n",
       "      <td>0</td>\n",
       "      <td>0</td>\n",
       "      <td>0</td>\n",
       "      <td>0</td>\n",
       "      <td>0</td>\n",
       "      <td>0</td>\n",
       "      <td>1</td>\n",
       "      <td>0</td>\n",
       "      <td>0</td>\n",
       "      <td>0</td>\n",
       "      <td>0</td>\n",
       "      <td>0</td>\n",
       "      <td>...</td>\n",
       "      <td>0</td>\n",
       "      <td>0</td>\n",
       "      <td>0</td>\n",
       "      <td>0</td>\n",
       "      <td>0</td>\n",
       "      <td>0</td>\n",
       "      <td>0</td>\n",
       "      <td>0</td>\n",
       "      <td>1</td>\n",
       "      <td>0</td>\n",
       "      <td>0</td>\n",
       "      <td>1</td>\n",
       "      <td>0</td>\n",
       "      <td>0</td>\n",
       "      <td>0</td>\n",
       "      <td>0</td>\n",
       "      <td>1</td>\n",
       "      <td>0</td>\n",
       "      <td>0</td>\n",
       "      <td>functional</td>\n",
       "    </tr>\n",
       "    <tr>\n",
       "      <td>1</td>\n",
       "      <td>8776</td>\n",
       "      <td>2013-03-06</td>\n",
       "      <td>2010</td>\n",
       "      <td>0.519358</td>\n",
       "      <td>0.454545</td>\n",
       "      <td>0</td>\n",
       "      <td>0</td>\n",
       "      <td>1</td>\n",
       "      <td>0</td>\n",
       "      <td>0</td>\n",
       "      <td>0</td>\n",
       "      <td>0</td>\n",
       "      <td>0</td>\n",
       "      <td>0</td>\n",
       "      <td>1</td>\n",
       "      <td>0</td>\n",
       "      <td>0</td>\n",
       "      <td>0</td>\n",
       "      <td>0</td>\n",
       "      <td>0</td>\n",
       "      <td>...</td>\n",
       "      <td>0</td>\n",
       "      <td>0</td>\n",
       "      <td>0</td>\n",
       "      <td>0</td>\n",
       "      <td>0</td>\n",
       "      <td>1</td>\n",
       "      <td>0</td>\n",
       "      <td>0</td>\n",
       "      <td>0</td>\n",
       "      <td>0</td>\n",
       "      <td>0</td>\n",
       "      <td>1</td>\n",
       "      <td>0</td>\n",
       "      <td>0</td>\n",
       "      <td>0</td>\n",
       "      <td>0</td>\n",
       "      <td>1</td>\n",
       "      <td>0</td>\n",
       "      <td>0</td>\n",
       "      <td>functional</td>\n",
       "    </tr>\n",
       "    <tr>\n",
       "      <td>2</td>\n",
       "      <td>34310</td>\n",
       "      <td>2013-02-25</td>\n",
       "      <td>2009</td>\n",
       "      <td>0.270666</td>\n",
       "      <td>0.727273</td>\n",
       "      <td>0</td>\n",
       "      <td>0</td>\n",
       "      <td>1</td>\n",
       "      <td>0</td>\n",
       "      <td>0</td>\n",
       "      <td>0</td>\n",
       "      <td>0</td>\n",
       "      <td>0</td>\n",
       "      <td>0</td>\n",
       "      <td>1</td>\n",
       "      <td>0</td>\n",
       "      <td>0</td>\n",
       "      <td>0</td>\n",
       "      <td>0</td>\n",
       "      <td>0</td>\n",
       "      <td>...</td>\n",
       "      <td>1</td>\n",
       "      <td>0</td>\n",
       "      <td>0</td>\n",
       "      <td>0</td>\n",
       "      <td>0</td>\n",
       "      <td>0</td>\n",
       "      <td>0</td>\n",
       "      <td>0</td>\n",
       "      <td>0</td>\n",
       "      <td>0</td>\n",
       "      <td>0</td>\n",
       "      <td>1</td>\n",
       "      <td>0</td>\n",
       "      <td>0</td>\n",
       "      <td>0</td>\n",
       "      <td>0</td>\n",
       "      <td>1</td>\n",
       "      <td>0</td>\n",
       "      <td>0</td>\n",
       "      <td>functional</td>\n",
       "    </tr>\n",
       "    <tr>\n",
       "      <td>3</td>\n",
       "      <td>67743</td>\n",
       "      <td>2013-01-28</td>\n",
       "      <td>1986</td>\n",
       "      <td>0.123125</td>\n",
       "      <td>0.818182</td>\n",
       "      <td>0</td>\n",
       "      <td>0</td>\n",
       "      <td>1</td>\n",
       "      <td>0</td>\n",
       "      <td>0</td>\n",
       "      <td>0</td>\n",
       "      <td>0</td>\n",
       "      <td>0</td>\n",
       "      <td>0</td>\n",
       "      <td>0</td>\n",
       "      <td>0</td>\n",
       "      <td>0</td>\n",
       "      <td>1</td>\n",
       "      <td>0</td>\n",
       "      <td>0</td>\n",
       "      <td>...</td>\n",
       "      <td>0</td>\n",
       "      <td>0</td>\n",
       "      <td>0</td>\n",
       "      <td>1</td>\n",
       "      <td>0</td>\n",
       "      <td>0</td>\n",
       "      <td>0</td>\n",
       "      <td>0</td>\n",
       "      <td>0</td>\n",
       "      <td>0</td>\n",
       "      <td>0</td>\n",
       "      <td>1</td>\n",
       "      <td>0</td>\n",
       "      <td>0</td>\n",
       "      <td>0</td>\n",
       "      <td>0</td>\n",
       "      <td>0</td>\n",
       "      <td>1</td>\n",
       "      <td>0</td>\n",
       "      <td>non functional</td>\n",
       "    </tr>\n",
       "    <tr>\n",
       "      <td>4</td>\n",
       "      <td>19728</td>\n",
       "      <td>2011-07-13</td>\n",
       "      <td>1986</td>\n",
       "      <td>0.385769</td>\n",
       "      <td>0.181818</td>\n",
       "      <td>0</td>\n",
       "      <td>0</td>\n",
       "      <td>0</td>\n",
       "      <td>0</td>\n",
       "      <td>0</td>\n",
       "      <td>0</td>\n",
       "      <td>0</td>\n",
       "      <td>0</td>\n",
       "      <td>0</td>\n",
       "      <td>1</td>\n",
       "      <td>0</td>\n",
       "      <td>0</td>\n",
       "      <td>0</td>\n",
       "      <td>0</td>\n",
       "      <td>0</td>\n",
       "      <td>...</td>\n",
       "      <td>0</td>\n",
       "      <td>0</td>\n",
       "      <td>0</td>\n",
       "      <td>0</td>\n",
       "      <td>0</td>\n",
       "      <td>1</td>\n",
       "      <td>0</td>\n",
       "      <td>0</td>\n",
       "      <td>0</td>\n",
       "      <td>0</td>\n",
       "      <td>0</td>\n",
       "      <td>1</td>\n",
       "      <td>0</td>\n",
       "      <td>0</td>\n",
       "      <td>0</td>\n",
       "      <td>0</td>\n",
       "      <td>0</td>\n",
       "      <td>0</td>\n",
       "      <td>1</td>\n",
       "      <td>functional</td>\n",
       "    </tr>\n",
       "  </tbody>\n",
       "</table>\n",
       "<p>5 rows × 137 columns</p>\n",
       "</div>"
      ],
      "text/plain": [
       "      id date_recorded  construction_year  gps_height  longitude  population  \\\n",
       "0  69572    2011-03-14               1999    0.516219   0.454545           0   \n",
       "1   8776    2013-03-06               2010    0.519358   0.454545           0   \n",
       "2  34310    2013-02-25               2009    0.270666   0.727273           0   \n",
       "3  67743    2013-01-28               1986    0.123125   0.818182           0   \n",
       "4  19728    2011-07-13               1986    0.385769   0.181818           0   \n",
       "\n",
       "   lat_replaced_0s  recorded_year  yrs_of_op  funder_Danida  funder_Dhv  \\\n",
       "0                0              0          0              0           0   \n",
       "1                0              1          0              0           0   \n",
       "2                0              1          0              0           0   \n",
       "3                0              1          0              0           0   \n",
       "4                0              0          0              0           0   \n",
       "\n",
       "   funder_District Council  funder_Hesawa  funder_Kkkt  funder_Other  \\\n",
       "0                        0              0            0             1   \n",
       "1                        0              0            0             1   \n",
       "2                        0              0            0             1   \n",
       "3                        0              0            0             0   \n",
       "4                        0              0            0             1   \n",
       "\n",
       "   funder_Rwssp  funder_Tasaf  funder_Unicef  funder_World Bank  \\\n",
       "0             0             0              0                  0   \n",
       "1             0             0              0                  0   \n",
       "2             0             0              0                  0   \n",
       "3             0             0              1                  0   \n",
       "4             0             0              0                  0   \n",
       "\n",
       "   funder_World Vision  ...  source_dam  source_hand dtw  source_lake  \\\n",
       "0                    0  ...           0                0            0   \n",
       "1                    0  ...           0                0            0   \n",
       "2                    0  ...           1                0            0   \n",
       "3                    0  ...           0                0            0   \n",
       "4                    0  ...           0                0            0   \n",
       "\n",
       "   source_machine dbh  source_other  source_rainwater harvesting  \\\n",
       "0                   0             0                            0   \n",
       "1                   0             0                            1   \n",
       "2                   0             0                            0   \n",
       "3                   1             0                            0   \n",
       "4                   0             0                            1   \n",
       "\n",
       "   source_river  source_shallow well  source_spring  source_unknown  \\\n",
       "0             0                    0              1               0   \n",
       "1             0                    0              0               0   \n",
       "2             0                    0              0               0   \n",
       "3             0                    0              0               0   \n",
       "4             0                    0              0               0   \n",
       "\n",
       "   waterpoint_type_group_cattle trough  \\\n",
       "0                                    0   \n",
       "1                                    0   \n",
       "2                                    0   \n",
       "3                                    0   \n",
       "4                                    0   \n",
       "\n",
       "   waterpoint_type_group_communal standpipe  waterpoint_type_group_dam  \\\n",
       "0                                         1                          0   \n",
       "1                                         1                          0   \n",
       "2                                         1                          0   \n",
       "3                                         1                          0   \n",
       "4                                         1                          0   \n",
       "\n",
       "   waterpoint_type_group_hand pump  waterpoint_type_group_improved spring  \\\n",
       "0                                0                                      0   \n",
       "1                                0                                      0   \n",
       "2                                0                                      0   \n",
       "3                                0                                      0   \n",
       "4                                0                                      0   \n",
       "\n",
       "   waterpoint_type_group_other  lga_functionality_functional  \\\n",
       "0                            0                             1   \n",
       "1                            0                             1   \n",
       "2                            0                             1   \n",
       "3                            0                             0   \n",
       "4                            0                             0   \n",
       "\n",
       "   lga_functionality_non functional  lga_functionality_unknown    status_group  \n",
       "0                                 0                          0      functional  \n",
       "1                                 0                          0      functional  \n",
       "2                                 0                          0      functional  \n",
       "3                                 1                          0  non functional  \n",
       "4                                 0                          1      functional  \n",
       "\n",
       "[5 rows x 137 columns]"
      ]
     },
     "execution_count": 52,
     "metadata": {},
     "output_type": "execute_result"
    }
   ],
   "source": [
    "train_cleaned.head()"
   ]
  },
  {
   "cell_type": "code",
   "execution_count": 53,
   "metadata": {},
   "outputs": [],
   "source": [
    "X_train = train_cleaned.loc[:, train_cleaned.columns != 'status_group']\n",
    "y_train = train_cleaned['status_group']\n",
    "X_train.to_csv(\"X_train.csv\")"
   ]
  },
  {
   "cell_type": "code",
   "execution_count": 54,
   "metadata": {},
   "outputs": [],
   "source": [
    "X_train = X_train.drop(['date_recorded', 'id'],axis=1)\n",
    "test_cleaned = test_cleaned.drop(['date_recorded', 'id', 'train_or_test'],axis=1)"
   ]
  },
  {
   "cell_type": "markdown",
   "metadata": {},
   "source": [
    "## Model Training"
   ]
  },
  {
   "cell_type": "markdown",
   "metadata": {},
   "source": [
    "In this phase of the machine learning pipeline, we explored a few different types of models, including logistic regression, XGBoost and random forest. Logistic regression proved to be the most unreliable model, most probably because it is not equipped to handle a large amount of features. XGBoost was better in accuracy compared to logistic regression, however random forest consistently delivered the best results. Random forest modelling will be shown below. "
   ]
  },
  {
   "cell_type": "markdown",
   "metadata": {},
   "source": [
    "### Random Forest"
   ]
  },
  {
   "cell_type": "code",
   "execution_count": 55,
   "metadata": {},
   "outputs": [
    {
     "data": {
      "text/plain": [
       "RandomForestClassifier(bootstrap=True, class_weight=None, criterion='gini',\n",
       "                       max_depth=None, max_features='sqrt', max_leaf_nodes=None,\n",
       "                       min_impurity_decrease=0.0, min_impurity_split=None,\n",
       "                       min_samples_leaf=1, min_samples_split=2,\n",
       "                       min_weight_fraction_leaf=0.0, n_estimators=100,\n",
       "                       n_jobs=None, oob_score=False, random_state=None,\n",
       "                       verbose=0, warm_start=False)"
      ]
     },
     "execution_count": 55,
     "metadata": {},
     "output_type": "execute_result"
    }
   ],
   "source": [
    "from sklearn.ensemble import RandomForestClassifier\n",
    "\n",
    "#start with the basic hyperparameters to get a baseline model\n",
    "rfc_model = RandomForestClassifier(n_estimators=100, \n",
    "                               bootstrap = True,\n",
    "                                  max_features = 'sqrt')\n",
    "\n",
    "rfc_model.fit(X_train, y_train)"
   ]
  },
  {
   "cell_type": "code",
   "execution_count": 56,
   "metadata": {},
   "outputs": [
    {
     "name": "stdout",
     "output_type": "stream",
     "text": [
      "Training Accuracy = 0.7758\n"
     ]
    },
    {
     "data": {
      "image/png": "[encoded data removed]",
      "text/plain": [
       "<Figure size 432x288 with 2 Axes>"
      ]
     },
     "metadata": {
      "needs_background": "light"
     },
     "output_type": "display_data"
    }
   ],
   "source": [
    "rfc_fitted_model, score = train_model(X_train, y_train, rfc_model)"
   ]
  },
  {
   "cell_type": "markdown",
   "metadata": {},
   "source": [
    "We had to play around with the number of features to include in the final model. By reducing our variables to only the most important ones, we simplify the model and avoid overfitting when fitting the model to test data. Limiting the number of variables also speeds the process of RandomSearch which is used below to find the optimal hyperparameters for our model."
   ]
  },
  {
   "cell_type": "code",
   "execution_count": 57,
   "metadata": {},
   "outputs": [
    {
     "data": {
      "image/png": "[encoded data removed]",
      "text/plain": [
       "<Figure size 1440x1440 with 1 Axes>"
      ]
     },
     "metadata": {
      "needs_background": "light"
     },
     "output_type": "display_data"
    }
   ],
   "source": [
    "sorted_idx = np.argsort(rfc_fitted_model.feature_importances_)[::-1][:45][::-1]\n",
    "\n",
    "plt.figure(figsize=(20,20))\n",
    "plt.barh(X_train.columns[sorted_idx], rfc_fitted_model.feature_importances_[sorted_idx], align='center')\n",
    "plt.title('Feature Importance', fontsize=16)\n",
    "plt.show()"
   ]
  },
  {
   "cell_type": "code",
   "execution_count": 58,
   "metadata": {},
   "outputs": [],
   "source": [
    "rfc_imp_vars = list(X_train.columns[sorted_idx])"
   ]
  },
  {
   "cell_type": "markdown",
   "metadata": {},
   "source": [
    "When using our baseline model with the top features, our training accuracy usually decreased. We learned that the best way to utilize the most important features is by combining it with random search, which finds the best hyperparameters for our sliced dataset (only includes most important variables)."
   ]
  },
  {
   "cell_type": "code",
   "execution_count": 59,
   "metadata": {},
   "outputs": [],
   "source": [
    "# rfc_fitted_model2, score = train_model(X_train[rfc_imp_vars], y_train, rfc_model)"
   ]
  },
  {
   "cell_type": "markdown",
   "metadata": {},
   "source": [
    "#### RF Model 3 - Random Search with Feature Importance Slicing"
   ]
  },
  {
   "cell_type": "code",
   "execution_count": 60,
   "metadata": {},
   "outputs": [
    {
     "name": "stdout",
     "output_type": "stream",
     "text": [
      "{'n_estimators': [200, 400, 600, 800, 1000, 1200, 1400, 1600, 1800, 2000], 'max_features': ['auto', 'sqrt'], 'max_depth': [1, None], 'min_samples_split': [2, 5, 10], 'min_samples_leaf': [1, 2, 4], 'bootstrap': [True, False]}\n"
     ]
    }
   ],
   "source": [
    "from sklearn.model_selection import RandomizedSearchCV\n",
    "\n",
    "# Number of trees in random forest\n",
    "n_estimators = [int(x) for x in np.linspace(start = 200, stop = 2000, num = 10)]\n",
    "# Number of features to consider at every split\n",
    "max_features = ['auto', 'sqrt']\n",
    "# Maximum number of levels in tree\n",
    "max_depth = [int(x) for x in np.linspace(1, 20, num = 1)]\n",
    "max_depth.append(None)\n",
    "# Minimum number of samples required to split a node\n",
    "min_samples_split = [2, 5, 10]\n",
    "# Minimum number of samples required at each leaf node\n",
    "min_samples_leaf = [1, 2, 4]\n",
    "# Method of selecting samples for training each tree\n",
    "bootstrap = [True, False]\n",
    "# Create the random grid\n",
    "random_grid = {'n_estimators': n_estimators,\n",
    "               'max_features': max_features,\n",
    "               'max_depth': max_depth,\n",
    "               'min_samples_split': min_samples_split,\n",
    "               'min_samples_leaf': min_samples_leaf,\n",
    "               'bootstrap': bootstrap}\n",
    "print(random_grid)"
   ]
  },
  {
   "cell_type": "code",
   "execution_count": 61,
   "metadata": {
    "scrolled": true
   },
   "outputs": [
    {
     "name": "stdout",
     "output_type": "stream",
     "text": [
      "Fitting 3 folds for each of 100 candidates, totalling 300 fits\n"
     ]
    },
    {
     "name": "stderr",
     "output_type": "stream",
     "text": [
      "[Parallel(n_jobs=-1)]: Using backend LokyBackend with 8 concurrent workers.\n",
      "[Parallel(n_jobs=-1)]: Done  25 tasks      | elapsed:  2.5min\n",
      "[Parallel(n_jobs=-1)]: Done 146 tasks      | elapsed: 28.2min\n",
      "[Parallel(n_jobs=-1)]: Done 300 out of 300 | elapsed: 64.3min finished\n"
     ]
    },
    {
     "data": {
      "text/plain": [
       "RandomizedSearchCV(cv=3, error_score='raise-deprecating',\n",
       "                   estimator=RandomForestClassifier(bootstrap=True,\n",
       "                                                    class_weight=None,\n",
       "                                                    criterion='gini',\n",
       "                                                    max_depth=None,\n",
       "                                                    max_features='auto',\n",
       "                                                    max_leaf_nodes=None,\n",
       "                                                    min_impurity_decrease=0.0,\n",
       "                                                    min_impurity_split=None,\n",
       "                                                    min_samples_leaf=1,\n",
       "                                                    min_samples_split=2,\n",
       "                                                    min_weight_fraction_leaf=0.0,\n",
       "                                                    n_estimators='warn',\n",
       "                                                    n_jobs=None,\n",
       "                                                    oob_sc...\n",
       "                                                    warm_start=False),\n",
       "                   iid='warn', n_iter=100, n_jobs=-1,\n",
       "                   param_distributions={'bootstrap': [True, False],\n",
       "                                        'max_depth': [1, None],\n",
       "                                        'max_features': ['auto', 'sqrt'],\n",
       "                                        'min_samples_leaf': [1, 2, 4],\n",
       "                                        'min_samples_split': [2, 5, 10],\n",
       "                                        'n_estimators': [200, 400, 600, 800,\n",
       "                                                         1000, 1200, 1400, 1600,\n",
       "                                                         1800, 2000]},\n",
       "                   pre_dispatch='2*n_jobs', random_state=42, refit=True,\n",
       "                   return_train_score=False, scoring=None, verbose=2)"
      ]
     },
     "execution_count": 61,
     "metadata": {},
     "output_type": "execute_result"
    }
   ],
   "source": [
    "# First create the base model to tune\n",
    "rf = RandomForestClassifier()\n",
    "# Random search of parameters, using 3 fold cross validation, \n",
    "# search across 100 different combinations, and use all available cores\n",
    "rf_random = RandomizedSearchCV(estimator = rf, param_distributions = random_grid, n_iter = 100, cv = 3, verbose=2, random_state=42, n_jobs = -1)\n",
    "# Fit the random search model\n",
    "rf_random.fit(X_train[rfc_imp_vars], y_train)"
   ]
  },
  {
   "cell_type": "code",
   "execution_count": 62,
   "metadata": {},
   "outputs": [
    {
     "data": {
      "text/plain": [
       "{'n_estimators': 1200,\n",
       " 'min_samples_split': 2,\n",
       " 'min_samples_leaf': 2,\n",
       " 'max_features': 'auto',\n",
       " 'max_depth': None,\n",
       " 'bootstrap': True}"
      ]
     },
     "execution_count": 62,
     "metadata": {},
     "output_type": "execute_result"
    }
   ],
   "source": [
    "rf_random.best_params_"
   ]
  },
  {
   "cell_type": "code",
   "execution_count": 72,
   "metadata": {},
   "outputs": [],
   "source": [
    "rfc_model2 = RandomForestClassifier(n_estimators=1200, bootstrap = True, max_features = 'auto', min_samples_split = 2, min_samples_leaf = 2)"
   ]
  },
  {
   "cell_type": "code",
   "execution_count": 73,
   "metadata": {},
   "outputs": [
    {
     "data": {
      "text/plain": [
       "RandomForestClassifier(bootstrap=True, class_weight=None, criterion='gini',\n",
       "                       max_depth=None, max_features='auto', max_leaf_nodes=None,\n",
       "                       min_impurity_decrease=0.0, min_impurity_split=None,\n",
       "                       min_samples_leaf=2, min_samples_split=2,\n",
       "                       min_weight_fraction_leaf=0.0, n_estimators=1200,\n",
       "                       n_jobs=None, oob_score=False, random_state=None,\n",
       "                       verbose=0, warm_start=False)"
      ]
     },
     "execution_count": 73,
     "metadata": {},
     "output_type": "execute_result"
    }
   ],
   "source": [
    "rfc_model2.fit(X_train[rfc_imp_vars], y_train)"
   ]
  },
  {
   "cell_type": "code",
   "execution_count": 74,
   "metadata": {},
   "outputs": [
    {
     "name": "stdout",
     "output_type": "stream",
     "text": [
      "Training Accuracy = 0.7956\n"
     ]
    },
    {
     "data": {
      "image/png": "[encoded data removed]",
      "text/plain": [
       "<Figure size 432x288 with 2 Axes>"
      ]
     },
     "metadata": {
      "needs_background": "light"
     },
     "output_type": "display_data"
    }
   ],
   "source": [
    "rfc_fitted_model_2, score = train_model(X_train[rfc_imp_vars], y_train, rfc_model2)"
   ]
  },
  {
   "cell_type": "markdown",
   "metadata": {},
   "source": [
    "# Test the model"
   ]
  },
  {
   "cell_type": "code",
   "execution_count": 77,
   "metadata": {},
   "outputs": [],
   "source": [
    "X_test = test_cleaned[rfc_imp_vars]"
   ]
  },
  {
   "cell_type": "code",
   "execution_count": 80,
   "metadata": {},
   "outputs": [],
   "source": [
    "# Train the model using all the data\n",
    "final_model = rfc_model2\n",
    "final_model.fit(X_train[rfc_imp_vars], y_train)\n",
    "\n",
    "# Test prediction\n",
    "final_pred = final_model.predict(X_test)\n",
    "predictions = pd.DataFrame({'id':test['id'], 'status_group':final_pred})\n",
    "predictions.to_csv(\"well_predictions10.csv\", index=False)"
   ]
  },
  {
   "cell_type": "markdown",
   "metadata": {},
   "source": [
    "## Feature Engineering"
   ]
  },
  {
   "cell_type": "markdown",
   "metadata": {},
   "source": [
    "Besides the variable importance generated above, we also tried Chi Squared test and Information Gain to determine the most important variables. We realized that the variable importance provided by the random forest model above were most successful in building an accurate model. This is probably due the the fact that the random forest algorithm learned the data better than Chi Squared and Information Gain, which are simpler math calculations used for simpler datasets. "
   ]
  },
  {
   "cell_type": "markdown",
   "metadata": {},
   "source": [
    "##### Chi Squared"
   ]
  },
  {
   "cell_type": "code",
   "execution_count": 68,
   "metadata": {},
   "outputs": [],
   "source": [
    "# from sklearn.feature_selection import SelectKBest, chi2\n",
    "# from operator import itemgetter\n",
    "\n",
    "# chi2_selector = SelectKBest(score_func=chi2).fit(X_train, y_train)\n",
    "\n",
    "# # Get the indices sorted by most important to least important\n",
    "# indices = np.argsort(chi2_selector.scores_)[::-1]\n",
    "\n",
    "# chi2_features = defaultdict(float)\n",
    "# for i in range(len(X_train.columns)):\n",
    "#     chi2_features[(X_train).columns[indices[i]]] += chi2_selector.scores_[indices[i]]\n",
    "    \n",
    "# items = sorted(chi2_features.items(), key=itemgetter(1), reverse=True)\n",
    "# keys, values = list(zip(*items))\n",
    "\n",
    "# plt.figure(figsize=(10,10))\n",
    "# plt.yticks(list(range(len(keys))), keys, rotation=0, fontsize=10)\n",
    "# plt.barh(list(range(len(keys))), values, color='r', align='center')\n",
    "# chi2_th = pd.Series(list(chi2_features.values())).quantile(0.25)\n",
    "# plt.axvline(chi2_th, color='blue')\n",
    "# plt.gca().invert_yaxis()\n",
    "\n",
    "# plt.show()\n",
    "\n",
    "# print(\"ChiSquared Threshold\", chi2_th)"
   ]
  },
  {
   "cell_type": "code",
   "execution_count": 69,
   "metadata": {},
   "outputs": [],
   "source": [
    "# chi2_features_to_remove = dict(filter(lambda x: x[1] <= chi2_th, chi2_features.items())).keys()\n",
    "# chi2_model, score = train_model(X_train.drop(list(chi2_features_to_remove), axis=1), y_train, rfc_model)"
   ]
  },
  {
   "cell_type": "markdown",
   "metadata": {},
   "source": [
    "##### Information Gain"
   ]
  },
  {
   "cell_type": "code",
   "execution_count": 70,
   "metadata": {},
   "outputs": [],
   "source": [
    "# from sklearn.feature_selection import mutual_info_classif\n",
    "# from sklearn.feature_selection import SelectKBest\n",
    "\n",
    "# ig_selector = SelectKBest(score_func=mutual_info_classif).fit(X_train, y_train)\n",
    "\n",
    "\n",
    "# # Get the indices sorted by most important to least important\n",
    "# indices = np.argsort(ig_selector.scores_)[::-1]\n",
    "\n",
    "# ig_features = defaultdict(float)\n",
    "# for i in range(len(X_train.columns)):\n",
    "#     ig_features[X_train.columns[indices[i]]] += ig_selector.scores_[indices[i]]\n",
    "    \n",
    "# items = sorted(ig_features.items(), key=itemgetter(1), reverse=True)\n",
    "# keys, values = list(zip(*items))\n",
    "\n",
    "# # Now plot\n",
    "# plt.figure(figsize=(10,10))\n",
    "# plt.yticks(list(range(len(keys))), keys, rotation=0, fontsize=10)\n",
    "# plt.barh(list(range(len(keys))), values, color='r', align='center')\n",
    "# ig_th = 0.01\n",
    "# plt.axvline(ig_th, color='blue')\n",
    "# plt.gca().invert_yaxis()\n",
    "\n",
    "# plt.show()\n",
    "\n",
    "# print(\"IG Threshold\", ig_th)"
   ]
  },
  {
   "cell_type": "code",
   "execution_count": 71,
   "metadata": {},
   "outputs": [],
   "source": [
    "# ig_features_to_remove = dict(filter(lambda x: x[1] <= ig_th, ig_features.items())).keys()\n",
    "# print(\"Features to remove = {}\".format(ig_features_to_remove))\n",
    "# ig_model, score = train_model(X_train.drop(list(ig_features_to_remove), axis=1), y_train, rfc_model)"
   ]
  },
  {
   "cell_type": "markdown",
   "metadata": {},
   "source": [
    "## Conclusion"
   ]
  },
  {
   "cell_type": "markdown",
   "metadata": {},
   "source": [
    "The most important and time consuming phase of this challenge was the data cleaning and preparation phase. Whenever we wanted to improve our model, we had to revisit this phase in order to extract different infromation, or reduce information, for each run. With each tweak in the data cleaning section, we learned what was most useful for our model. More information (i.e. keeping all outliers in the dataset) and more accurate information (i.e. using subvillage to extract a truer mean for population) were key findings that guided our decisions throughout the challenge and ultimately resulted in an accurate and reliable model."
   ]
  }
 ],
 "metadata": {
  "kernelspec": {
   "display_name": "Python 3",
   "language": "python",
   "name": "python3"
  },
  "language_info": {
   "codemirror_mode": {
    "name": "ipython",
    "version": 3
   },
   "file_extension": ".py",
   "mimetype": "text/x-python",
   "name": "python",
   "nbconvert_exporter": "python",
   "pygments_lexer": "ipython3",
   "version": "3.7.4"
  },
  "toc": {
   "base_numbering": 1,
   "nav_menu": {},
   "number_sections": true,
   "sideBar": true,
   "skip_h1_title": false,
   "title_cell": "Table of Contents",
   "title_sidebar": "Contents",
   "toc_cell": false,
   "toc_position": {},
   "toc_section_display": true,
   "toc_window_display": false
  }
 },
 "nbformat": 4,
 "nbformat_minor": 2
}
